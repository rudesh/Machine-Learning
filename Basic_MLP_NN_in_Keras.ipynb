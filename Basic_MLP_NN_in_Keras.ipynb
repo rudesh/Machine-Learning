{
  "nbformat": 4,
  "nbformat_minor": 0,
  "metadata": {
    "colab": {
      "name": "Basic MLP NN in Keras.ipynb",
      "version": "0.3.2",
      "provenance": []
    },
    "kernelspec": {
      "name": "python3",
      "display_name": "Python 3"
    },
    "accelerator": "GPU"
  },
  "cells": [
    {
      "metadata": {
        "id": "-ZujUef6eoQ5",
        "colab_type": "code",
        "colab": {}
      },
      "cell_type": "code",
      "source": [
        "import numpy as np\n",
        "from random import randint\n",
        "from sklearn.preprocessing import MinMaxScaler"
      ],
      "execution_count": 0,
      "outputs": []
    },
    {
      "metadata": {
        "id": "8mgB5OBZe3FY",
        "colab_type": "code",
        "colab": {}
      },
      "cell_type": "code",
      "source": [
        "#creating three empty lists\n",
        "\n",
        "train_samples = []\n",
        "train_labels = []\n",
        "\n",
        "test_samples = []"
      ],
      "execution_count": 0,
      "outputs": []
    },
    {
      "metadata": {
        "id": "ERoIVGz9fBlT",
        "colab_type": "code",
        "colab": {}
      },
      "cell_type": "code",
      "source": [
        "#generating sample data\n",
        "\n",
        "#train samples\n",
        "\n",
        "for i in range(1000):\n",
        "  random_younger = randint(13, 64)\n",
        "  train_samples.append(random_younger)\n",
        "  train_labels.append(0)\n",
        "  \n",
        "  random_older = randint(65, 100)\n",
        "  train_samples.append(random_older)\n",
        "  train_labels.append(1)\n",
        "  \n",
        "\n",
        "  \n",
        "for i in range(50):\n",
        "  random_younger = randint(13, 64)\n",
        "  train_samples.append(random_younger)\n",
        "  train_labels.append(1)\n",
        "  \n",
        "  random_older = randint(65, 100)\n",
        "  train_samples.append(random_older)\n",
        "  train_labels.append(0)\n",
        "  \n",
        "  \n",
        "\n",
        "#test samples\n",
        "  \n",
        "for i in range(10):\n",
        "  random_younger = randint(13, 64)\n",
        "  test_samples.append(random_younger)\n",
        "  \n",
        "  random_older = randint(65, 100)\n",
        "  test_samples.append(random_older)\n",
        "  \n",
        "\n",
        "  \n",
        "for i in range(10):\n",
        "  random_younger = randint(13, 64)\n",
        "  test_samples.append(random_younger)\n",
        "  \n",
        "  random_older = randint(65, 100)\n",
        "  test_samples.append(random_older)"
      ],
      "execution_count": 0,
      "outputs": []
    },
    {
      "metadata": {
        "id": "AIAYI12Bgq-b",
        "colab_type": "code",
        "colab": {}
      },
      "cell_type": "code",
      "source": [
        "#converting lists to numpy arrays\n",
        "\n",
        "train_samples = np.array(train_samples)\n",
        "train_labels = np.array(train_labels)\n",
        "\n",
        "test_samples = np.array(test_samples)"
      ],
      "execution_count": 0,
      "outputs": []
    },
    {
      "metadata": {
        "id": "fw3Wpm3LhJr6",
        "colab_type": "code",
        "colab": {
          "base_uri": "https://localhost:8080/",
          "height": 85
        },
        "outputId": "1dd9dc2a-0240-47fe-87a1-11244df0f3a0"
      },
      "cell_type": "code",
      "source": [
        "#creating a new scaler object which will scale data down betwween 0 and 1, which will make the learning easier for the model\n",
        "scaler = MinMaxScaler(feature_range=(0, 1))\n",
        "\n",
        "#call fit_transform function using scaler object to scale all training data from between 13-100 into 0-1\n",
        "#fit_transform doesnt accept 1D array so we need to reshape it -1, 1\n",
        "scaled_train_samples = scaler.fit_transform((train_samples).reshape(-1, 1))\n",
        "\n",
        "scaled_test_samples = scaler.fit_transform((test_samples).reshape(-1, 1))"
      ],
      "execution_count": 5,
      "outputs": [
        {
          "output_type": "stream",
          "text": [
            "/usr/local/lib/python3.6/dist-packages/sklearn/utils/validation.py:595: DataConversionWarning: Data with input dtype int64 was converted to float64 by MinMaxScaler.\n",
            "  warnings.warn(msg, DataConversionWarning)\n",
            "/usr/local/lib/python3.6/dist-packages/sklearn/utils/validation.py:595: DataConversionWarning: Data with input dtype int64 was converted to float64 by MinMaxScaler.\n",
            "  warnings.warn(msg, DataConversionWarning)\n"
          ],
          "name": "stderr"
        }
      ]
    },
    {
      "metadata": {
        "id": "-S6ZAC2tWV6J",
        "colab_type": "code",
        "colab": {
          "base_uri": "https://localhost:8080/",
          "height": 34
        },
        "outputId": "f957b3d2-e724-46ed-fdf7-41b61db8664a"
      },
      "cell_type": "code",
      "source": [
        "import keras\n",
        "from keras import backend as k\n",
        "from keras.models import Sequential\n",
        "from keras.layers import Dense, Activation, BatchNormalization\n",
        "from keras.layers.core import Dense\n",
        "from keras.optimizers import Adam\n",
        "from keras.metrics import categorical_crossentropy\n",
        "from keras import regularizers\n",
        "from keras.models import Sequential"
      ],
      "execution_count": 6,
      "outputs": [
        {
          "output_type": "stream",
          "text": [
            "Using TensorFlow backend.\n"
          ],
          "name": "stderr"
        }
      ]
    },
    {
      "metadata": {
        "id": "cVoyLIYdWmVZ",
        "colab_type": "code",
        "colab": {
          "base_uri": "https://localhost:8080/",
          "height": 108
        },
        "outputId": "0b75f6dc-2edf-4d7a-a914-b19f1973b8c0"
      },
      "cell_type": "code",
      "source": [
        "#creating a model with 4 layers, including input, 2nd layer with 16 nodes, 3rd with 32 and output layer got 2 nodes\n",
        "\n",
        "model = Sequential([Dense(16, input_shape = (1,), activation = 'relu'),\n",
        "                    Dense(32, activation = 'relu'),\n",
        "                    Dense(2, activation = 'softmax'),\n",
        "                   ])"
      ],
      "execution_count": 7,
      "outputs": [
        {
          "output_type": "stream",
          "text": [
            "WARNING:tensorflow:From /usr/local/lib/python3.6/dist-packages/tensorflow/python/framework/op_def_library.py:263: colocate_with (from tensorflow.python.framework.ops) is deprecated and will be removed in a future version.\n",
            "Instructions for updating:\n",
            "Colocations handled automatically by placer.\n"
          ],
          "name": "stdout"
        }
      ]
    },
    {
      "metadata": {
        "id": "tzk-XEbrX5d1",
        "colab_type": "code",
        "colab": {}
      },
      "cell_type": "code",
      "source": [
        "#compile the model, using Adam optimiser and metrics means what to calculate and print after every epoch\n",
        "\n",
        "model.compile(Adam(lr = 0.0001), loss = 'sparse_categorical_crossentropy', metrics = ['accuracy'])"
      ],
      "execution_count": 0,
      "outputs": []
    },
    {
      "metadata": {
        "id": "487k8Iazdi-J",
        "colab_type": "code",
        "colab": {
          "base_uri": "https://localhost:8080/",
          "height": 1020
        },
        "outputId": "c53f11b9-15b0-4fda-a7b0-3be55607c705"
      },
      "cell_type": "code",
      "source": [
        "#train the model\n",
        "\n",
        "model.fit(scaled_train_samples, train_labels, batch_size = 10, epochs = 20, shuffle = True)"
      ],
      "execution_count": 9,
      "outputs": [
        {
          "output_type": "stream",
          "text": [
            "WARNING:tensorflow:From /usr/local/lib/python3.6/dist-packages/tensorflow/python/ops/math_ops.py:3066: to_int32 (from tensorflow.python.ops.math_ops) is deprecated and will be removed in a future version.\n",
            "Instructions for updating:\n",
            "Use tf.cast instead.\n",
            "Epoch 1/20\n",
            "2100/2100 [==============================] - 2s 798us/step - loss: 0.6676 - acc: 0.5619\n",
            "Epoch 2/20\n",
            "2100/2100 [==============================] - 1s 392us/step - loss: 0.6441 - acc: 0.6400\n",
            "Epoch 3/20\n",
            "2100/2100 [==============================] - 1s 393us/step - loss: 0.6134 - acc: 0.7329\n",
            "Epoch 4/20\n",
            "2100/2100 [==============================] - 1s 395us/step - loss: 0.5816 - acc: 0.7657\n",
            "Epoch 5/20\n",
            "2100/2100 [==============================] - 1s 387us/step - loss: 0.5489 - acc: 0.7957\n",
            "Epoch 6/20\n",
            "2100/2100 [==============================] - 1s 373us/step - loss: 0.5153 - acc: 0.8229\n",
            "Epoch 7/20\n",
            "2100/2100 [==============================] - 1s 388us/step - loss: 0.4820 - acc: 0.8410\n",
            "Epoch 8/20\n",
            "2100/2100 [==============================] - 1s 389us/step - loss: 0.4499 - acc: 0.8619\n",
            "Epoch 9/20\n",
            "2100/2100 [==============================] - 1s 391us/step - loss: 0.4205 - acc: 0.8805\n",
            "Epoch 10/20\n",
            "2100/2100 [==============================] - 1s 388us/step - loss: 0.3939 - acc: 0.8871\n",
            "Epoch 11/20\n",
            "2100/2100 [==============================] - 1s 389us/step - loss: 0.3712 - acc: 0.9005\n",
            "Epoch 12/20\n",
            "2100/2100 [==============================] - 1s 387us/step - loss: 0.3524 - acc: 0.9071\n",
            "Epoch 13/20\n",
            "2100/2100 [==============================] - 1s 390us/step - loss: 0.3371 - acc: 0.9148\n",
            "Epoch 14/20\n",
            "2100/2100 [==============================] - 1s 391us/step - loss: 0.3246 - acc: 0.9162\n",
            "Epoch 15/20\n",
            "2100/2100 [==============================] - 1s 384us/step - loss: 0.3148 - acc: 0.9224\n",
            "Epoch 16/20\n",
            "2100/2100 [==============================] - 1s 388us/step - loss: 0.3066 - acc: 0.9229\n",
            "Epoch 17/20\n",
            "2100/2100 [==============================] - 1s 394us/step - loss: 0.3003 - acc: 0.9233\n",
            "Epoch 18/20\n",
            "2100/2100 [==============================] - 1s 391us/step - loss: 0.2948 - acc: 0.9257\n",
            "Epoch 19/20\n",
            "2100/2100 [==============================] - 1s 392us/step - loss: 0.2904 - acc: 0.9276\n",
            "Epoch 20/20\n",
            "2100/2100 [==============================] - 1s 383us/step - loss: 0.2872 - acc: 0.9324\n"
          ],
          "name": "stdout"
        },
        {
          "output_type": "execute_result",
          "data": {
            "text/plain": [
              "<keras.callbacks.History at 0x7fa22b61ec18>"
            ]
          },
          "metadata": {
            "tags": []
          },
          "execution_count": 9
        }
      ]
    },
    {
      "metadata": {
        "id": "sljnVsYjd9V7",
        "colab_type": "code",
        "colab": {
          "base_uri": "https://localhost:8080/",
          "height": 731
        },
        "outputId": "2c33bb3c-4f95-41cc-cac2-7afeec7a5f6e"
      },
      "cell_type": "code",
      "source": [
        "#train the model with a validation set\n",
        "\n",
        "model.fit(scaled_train_samples, train_labels, validation_split = 0.2, batch_size = 10, epochs = 20, shuffle = True)"
      ],
      "execution_count": 10,
      "outputs": [
        {
          "output_type": "stream",
          "text": [
            "Train on 1680 samples, validate on 420 samples\n",
            "Epoch 1/20\n",
            "1680/1680 [==============================] - 1s 440us/step - loss: 0.1796 - acc: 0.9750 - val_loss: 0.7090 - val_acc: 0.7429\n",
            "Epoch 2/20\n",
            "1680/1680 [==============================] - 1s 425us/step - loss: 0.1696 - acc: 0.9714 - val_loss: 0.7277 - val_acc: 0.7548\n",
            "Epoch 3/20\n",
            "1680/1680 [==============================] - 1s 411us/step - loss: 0.1607 - acc: 0.9780 - val_loss: 0.7511 - val_acc: 0.7548\n",
            "Epoch 4/20\n",
            "1680/1680 [==============================] - 1s 419us/step - loss: 0.1525 - acc: 0.9726 - val_loss: 0.7716 - val_acc: 0.7548\n",
            "Epoch 5/20\n",
            "1680/1680 [==============================] - 1s 418us/step - loss: 0.1454 - acc: 0.9798 - val_loss: 0.7955 - val_acc: 0.7548\n",
            "Epoch 6/20\n",
            "1680/1680 [==============================] - 1s 422us/step - loss: 0.1387 - acc: 0.9768 - val_loss: 0.8188 - val_acc: 0.7548\n",
            "Epoch 7/20\n",
            "1680/1680 [==============================] - 1s 414us/step - loss: 0.1326 - acc: 0.9792 - val_loss: 0.8400 - val_acc: 0.7548\n",
            "Epoch 8/20\n",
            "1680/1680 [==============================] - 1s 416us/step - loss: 0.1269 - acc: 0.9798 - val_loss: 0.8623 - val_acc: 0.7595\n",
            "Epoch 9/20\n",
            "1680/1680 [==============================] - 1s 422us/step - loss: 0.1219 - acc: 0.9851 - val_loss: 0.8866 - val_acc: 0.7548\n",
            "Epoch 10/20\n",
            "1680/1680 [==============================] - 1s 410us/step - loss: 0.1172 - acc: 0.9810 - val_loss: 0.9066 - val_acc: 0.7595\n",
            "Epoch 11/20\n",
            "1680/1680 [==============================] - 1s 424us/step - loss: 0.1129 - acc: 0.9839 - val_loss: 0.9315 - val_acc: 0.7595\n",
            "Epoch 12/20\n",
            "1680/1680 [==============================] - 1s 421us/step - loss: 0.1090 - acc: 0.9815 - val_loss: 0.9506 - val_acc: 0.7595\n",
            "Epoch 13/20\n",
            "1680/1680 [==============================] - 1s 408us/step - loss: 0.1052 - acc: 0.9845 - val_loss: 0.9732 - val_acc: 0.7595\n",
            "Epoch 14/20\n",
            "1680/1680 [==============================] - 1s 423us/step - loss: 0.1020 - acc: 0.9857 - val_loss: 0.9979 - val_acc: 0.7595\n",
            "Epoch 15/20\n",
            "1680/1680 [==============================] - 1s 423us/step - loss: 0.0987 - acc: 0.9857 - val_loss: 1.0183 - val_acc: 0.7595\n",
            "Epoch 16/20\n",
            "1680/1680 [==============================] - 1s 415us/step - loss: 0.0956 - acc: 0.9857 - val_loss: 1.0414 - val_acc: 0.7595\n",
            "Epoch 17/20\n",
            "1680/1680 [==============================] - 1s 415us/step - loss: 0.0929 - acc: 0.9851 - val_loss: 1.0617 - val_acc: 0.7595\n",
            "Epoch 18/20\n",
            "1680/1680 [==============================] - 1s 418us/step - loss: 0.0903 - acc: 0.9857 - val_loss: 1.0835 - val_acc: 0.7595\n",
            "Epoch 19/20\n",
            "1680/1680 [==============================] - 1s 414us/step - loss: 0.0878 - acc: 0.9857 - val_loss: 1.1062 - val_acc: 0.7595\n",
            "Epoch 20/20\n",
            "1680/1680 [==============================] - 1s 417us/step - loss: 0.0858 - acc: 0.9857 - val_loss: 1.1244 - val_acc: 0.7595\n"
          ],
          "name": "stdout"
        },
        {
          "output_type": "execute_result",
          "data": {
            "text/plain": [
              "<keras.callbacks.History at 0x7fa1ca4c0390>"
            ]
          },
          "metadata": {
            "tags": []
          },
          "execution_count": 10
        }
      ]
    },
    {
      "metadata": {
        "id": "lGq8FRXdjq0s",
        "colab_type": "code",
        "colab": {}
      },
      "cell_type": "code",
      "source": [
        "#adding a regularizer method to the model, here its l2 method with 0.01 lambda value\n",
        "\n",
        "model = Sequential([Dense(16, input_shape = (1,), activation = 'relu'),\n",
        "                    Dense(32, activation = 'relu', kernel_regularizer = regularizers.l2(0.01)),\n",
        "                    Dense(2, activation = 'sigmoid'),\n",
        "                   ])"
      ],
      "execution_count": 0,
      "outputs": []
    },
    {
      "metadata": {
        "id": "k_yX7ymePOkX",
        "colab_type": "code",
        "colab": {}
      },
      "cell_type": "code",
      "source": [
        "#making predictions using the model\n",
        "\n",
        "predictions = model.predict(scaled_test_samples, batch_size = 10)"
      ],
      "execution_count": 0,
      "outputs": []
    },
    {
      "metadata": {
        "id": "zWr2fVAOXFLw",
        "colab_type": "code",
        "colab": {
          "base_uri": "https://localhost:8080/",
          "height": 697
        },
        "outputId": "c70a267a-ed51-4c90-bf94-55a3a23d4bc5"
      },
      "cell_type": "code",
      "source": [
        "predictions"
      ],
      "execution_count": 13,
      "outputs": [
        {
          "output_type": "execute_result",
          "data": {
            "text/plain": [
              "array([[0.5023953 , 0.5173683 ],\n",
              "       [0.50664467, 0.54805374],\n",
              "       [0.5027044 , 0.51960725],\n",
              "       [0.5045587 , 0.53302103],\n",
              "       [0.5024726 , 0.5179281 ],\n",
              "       [0.50448143, 0.53246295],\n",
              "       [0.50077266, 0.5056047 ],\n",
              "       [0.5050222 , 0.53636783],\n",
              "       [0.50108176, 0.5078463 ],\n",
              "       [0.50401783, 0.52911276],\n",
              "       [0.50084996, 0.50616515],\n",
              "       [0.5054085 , 0.5391543 ],\n",
              "       [0.5016226 , 0.5117682 ],\n",
              "       [0.5067219 , 0.548609  ],\n",
              "       [0.50077266, 0.5056047 ],\n",
              "       [0.50509953, 0.5369253 ],\n",
              "       [0.5035543 , 0.52575994],\n",
              "       [0.50625837, 0.5452757 ],\n",
              "       [0.50146806, 0.5106478 ],\n",
              "       [0.5065674 , 0.54749835],\n",
              "       [0.50154537, 0.511208  ],\n",
              "       [0.5053313 , 0.53859717],\n",
              "       [0.50015455, 0.501121  ],\n",
              "       [0.5064902 , 0.5469429 ],\n",
              "       [0.5004636 , 0.5033629 ],\n",
              "       [0.50486773, 0.5352526 ],\n",
              "       [0.5018544 , 0.5134486 ],\n",
              "       [0.5054085 , 0.5391543 ],\n",
              "       [0.50154537, 0.511208  ],\n",
              "       [0.5054085 , 0.5391543 ],\n",
              "       [0.5       , 0.5       ],\n",
              "       [0.50409514, 0.5296713 ],\n",
              "       [0.5020862 , 0.51512873],\n",
              "       [0.50525403, 0.53804   ],\n",
              "       [0.5016226 , 0.5117682 ],\n",
              "       [0.5055631 , 0.5402682 ],\n",
              "       [0.5027044 , 0.51960725],\n",
              "       [0.5045587 , 0.53302103],\n",
              "       [0.5017772 , 0.5128885 ],\n",
              "       [0.5056403 , 0.540825  ]], dtype=float32)"
            ]
          },
          "metadata": {
            "tags": []
          },
          "execution_count": 13
        }
      ]
    },
    {
      "metadata": {
        "id": "6sbbVDvyXHX7",
        "colab_type": "code",
        "colab": {}
      },
      "cell_type": "code",
      "source": [
        "#adding a batch normalization method to the model\n",
        "\n",
        "model = Sequential([Dense(16, input_shape = (1,), activation = 'relu'),\n",
        "                    Dense(32, activation = 'relu', kernel_regularizer = regularizers.l2(0.01)),\n",
        "                    BatchNormalization(axis=1),\n",
        "                    Dense(2, activation = 'sigmoid'),\n",
        "                   ])"
      ],
      "execution_count": 0,
      "outputs": []
    },
    {
      "metadata": {
        "id": "PBLJt7nRHAhk",
        "colab_type": "code",
        "colab": {}
      },
      "cell_type": "code",
      "source": [
        "#making predictions using the model\n",
        "\n",
        "predictions = model.predict(scaled_test_samples, batch_size = 10)"
      ],
      "execution_count": 0,
      "outputs": []
    },
    {
      "metadata": {
        "id": "_O4nGpp0HW2t",
        "colab_type": "code",
        "colab": {
          "base_uri": "https://localhost:8080/",
          "height": 697
        },
        "outputId": "d1e098ee-c87d-4830-e672-7fd743933b36"
      },
      "cell_type": "code",
      "source": [
        "predictions"
      ],
      "execution_count": 16,
      "outputs": [
        {
          "output_type": "execute_result",
          "data": {
            "text/plain": [
              "array([[0.48112407, 0.5117915 ],\n",
              "       [0.44780055, 0.53267145],\n",
              "       [0.47869128, 0.51331234],\n",
              "       [0.46411958, 0.5224311 ],\n",
              "       [0.48051578, 0.51217175],\n",
              "       [0.46472567, 0.5220514 ],\n",
              "       [0.4939084 , 0.5038043 ],\n",
              "       [0.46048522, 0.5247086 ],\n",
              "       [0.49147215, 0.505326  ],\n",
              "       [0.46836445, 0.5197727 ],\n",
              "       [0.4932993 , 0.5041848 ],\n",
              "       [0.4574598 , 0.52660584],\n",
              "       [0.4872098 , 0.50798863],\n",
              "       [0.44719806, 0.5330503 ],\n",
              "       [0.4939084 , 0.5038043 ],\n",
              "       [0.4598799 , 0.52508813],\n",
              "       [0.47200656, 0.51749325],\n",
              "       [0.45081517, 0.5307769 ],\n",
              "       [0.48842746, 0.5072279 ],\n",
              "       [0.44840318, 0.5322926 ],\n",
              "       [0.4878186 , 0.5076083 ],\n",
              "       [0.45806465, 0.52622646],\n",
              "       [0.49878162, 0.5007609 ],\n",
              "       [0.44900596, 0.53191376],\n",
              "       [0.49634492, 0.5022826 ],\n",
              "       [0.46169624, 0.52394956],\n",
              "       [0.4853836 , 0.50912964],\n",
              "       [0.4574598 , 0.52660584],\n",
              "       [0.4878186 , 0.5076083 ],\n",
              "       [0.4574598 , 0.52660584],\n",
              "       [0.5       , 0.5       ],\n",
              "       [0.46775773, 0.52015257],\n",
              "       [0.4835578 , 0.51027054],\n",
              "       [0.4586696 , 0.5258471 ],\n",
              "       [0.4872098 , 0.50798863],\n",
              "       [0.4562505 , 0.5273645 ],\n",
              "       [0.47869128, 0.51331234],\n",
              "       [0.46411958, 0.5224311 ],\n",
              "       [0.48599228, 0.5087493 ],\n",
              "       [0.45564604, 0.5277438 ]], dtype=float32)"
            ]
          },
          "metadata": {
            "tags": []
          },
          "execution_count": 16
        }
      ]
    },
    {
      "metadata": {
        "id": "lhSF_7RgHwsl",
        "colab_type": "code",
        "colab": {}
      },
      "cell_type": "code",
      "source": [
        ""
      ],
      "execution_count": 0,
      "outputs": []
    }
  ]
}