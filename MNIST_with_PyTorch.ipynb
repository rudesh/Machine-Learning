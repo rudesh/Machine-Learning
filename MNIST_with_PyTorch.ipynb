{
  "nbformat": 4,
  "nbformat_minor": 0,
  "metadata": {
    "colab": {
      "name": "MNIST with PyTorch.ipynb",
      "version": "0.3.2",
      "provenance": [],
      "collapsed_sections": []
    },
    "kernelspec": {
      "name": "python3",
      "display_name": "Python 3"
    },
    "accelerator": "GPU"
  },
  "cells": [
    {
      "metadata": {
        "id": "R0Rtw7HaUUr1",
        "colab_type": "code",
        "colab": {}
      },
      "cell_type": "code",
      "source": [
        "import torch\n",
        "import torch.nn as nn\n",
        "import torchvision\n",
        "import torchvision.transforms as transforms\n",
        "import matplotlib.pyplot as plt\n",
        "\n",
        "# Device configuration\n",
        "device = torch.device('cuda:0' if torch.cuda.is_available() else 'cpu')"
      ],
      "execution_count": 0,
      "outputs": []
    },
    {
      "metadata": {
        "id": "ad5EmK6VTYQ1",
        "colab_type": "code",
        "colab": {}
      },
      "cell_type": "code",
      "source": [
        "# Hyper-parameter\n",
        "batch_size = 100\n",
        "\n",
        "# Load the MNIST dataset with torchvision \n",
        "train_dataset = torchvision.datasets.MNIST(root='../../data', \n",
        "                                           train=True, \n",
        "                                           transform=transforms.ToTensor(),  \n",
        "                                           download=True)\n",
        "\n",
        "test_dataset = torchvision.datasets.MNIST(root='../../data', \n",
        "                                          train=False, \n",
        "                                          transform=transforms.ToTensor())\n",
        "\n",
        "# Data loader\n",
        "train_loader = torch.utils.data.DataLoader(dataset=train_dataset, \n",
        "                                           batch_size=batch_size, \n",
        "                                           shuffle=True)\n",
        "\n",
        "test_loader = torch.utils.data.DataLoader(dataset=test_dataset, \n",
        "                                          batch_size=batch_size, \n",
        "                                          shuffle=False)"
      ],
      "execution_count": 0,
      "outputs": []
    },
    {
      "metadata": {
        "id": "8ub5YfFsU7JA",
        "colab_type": "code",
        "colab": {}
      },
      "cell_type": "code",
      "source": [
        "#model\n",
        "\n",
        "import torch.nn as nn\n",
        "\n",
        "class AlexNet(nn.Module):\n",
        "\tdef __init__(self, num_classes=10):\n",
        "\t\tsuper(AlexNet, self).__init__()\n",
        "\n",
        "\t\t#self.num_classes = num_classes\n",
        "\n",
        "\t\tself.conv1 = nn.Conv2d(in_channels=1, out_channels=784, kernel_size=3, stride=4, padding=1)\n",
        "\t\tself.relu = nn.ReLU(inplace=True)\n",
        "\t\tself.maxpool = nn.MaxPool2d(kernel_size=3, stride=2)\n",
        "\t\tself.conv2 = nn.Conv2d(in_channels=784, out_channels=392, kernel_size=3, padding=1)\n",
        "\t\tself.conv3 = nn.Conv2d(in_channels=392, out_channels=256, kernel_size=3, padding=1)\n",
        "\t\tself.conv4 = nn.Conv2d(in_channels=256, out_channels=128, kernel_size=3, padding=1)\n",
        "\t\tself.conv5 = nn.Conv2d(in_channels=128, out_channels=64, kernel_size=3, padding=1)\n",
        "\t\tself.avgpool = nn.AdaptiveAvgPool2d((4, 4))\n",
        "\t\tself.dropout = nn.Dropout()\n",
        "\t\tself.ff1 = nn.Linear(64*4*4, 120)\n",
        "\t\tself.ff2 = nn.Linear(120, 120)\n",
        "\t\tself.output = nn.Linear(120, num_classes)\n",
        "\n",
        "\tdef forward(self, x):\n",
        "\t\t# First Convolutional Layer\n",
        "\t\ty = self.conv1(x)\n",
        "\t\ty = self.relu(y)\n",
        "\t\ty = self.maxpool(y)\n",
        "\n",
        "\t\t# Second Convolutional Layer\n",
        "\t\ty = self.conv2(y)\n",
        "\t\ty = self.relu(y)\n",
        "\t\ty = self.maxpool(y)\n",
        "\n",
        "\t\t# Third Convolutional Layer\n",
        "\t\ty = self.conv3(y)\n",
        "\t\ty = self.relu(y)\n",
        "\n",
        "\t\t# Fourth Convolutional Layer\n",
        "\t\ty = self.conv4(y)\n",
        "\t\ty = self.relu(y)\n",
        "\n",
        "\t\t# Fifth Convolutional Layer\n",
        "\t\ty = self.conv5(y)\n",
        "\t\ty = self.relu(y)\n",
        "\t\t#y = self.maxpool(y)\n",
        "\t\ty = self.avgpool(y)\n",
        "\n",
        "\t\t# Flattening \n",
        "\t\ty = y.view(y.size(0), 64*4*4)\n",
        "\n",
        "\t\t# First Feed Forward Layer\n",
        "\t\ty = self.dropout(y)\n",
        "\t\ty = self.ff1(y)\n",
        "\t\ty = self.relu(y)\n",
        "\n",
        "\t\t# Second Feed Forward Layer\n",
        "\t\ty = self.dropout(y)\n",
        "\t\ty = self.ff2(y)\n",
        "\t\ty = self.relu(y)\n",
        "\n",
        "\t\t# Output Layer\n",
        "\t\ty = self.output(y)\n",
        "\t\treturn y"
      ],
      "execution_count": 0,
      "outputs": []
    },
    {
      "metadata": {
        "id": "G0TitQWKUbIu",
        "colab_type": "code",
        "colab": {}
      },
      "cell_type": "code",
      "source": [
        "#hyper-parameters\n",
        "num_epochs = 3\n",
        "num_classes = 10\n",
        "batch_size = 100\n",
        "learning_rate = 0.001"
      ],
      "execution_count": 0,
      "outputs": []
    },
    {
      "metadata": {
        "id": "kYu93qVJUhAv",
        "colab_type": "code",
        "outputId": "aab96c57-4dd8-4763-ab52-f95734ff42e1",
        "colab": {
          "base_uri": "https://localhost:8080/",
          "height": 255
        }
      },
      "cell_type": "code",
      "source": [
        "#initiating the model\n",
        "model = AlexNet(num_classes).to(device)\n",
        "\n",
        "model"
      ],
      "execution_count": 0,
      "outputs": [
        {
          "output_type": "execute_result",
          "data": {
            "text/plain": [
              "AlexNet(\n",
              "  (conv1): Conv2d(1, 784, kernel_size=(3, 3), stride=(4, 4), padding=(1, 1))\n",
              "  (relu): ReLU(inplace)\n",
              "  (maxpool): MaxPool2d(kernel_size=3, stride=2, padding=0, dilation=1, ceil_mode=False)\n",
              "  (conv2): Conv2d(784, 392, kernel_size=(3, 3), stride=(1, 1), padding=(1, 1))\n",
              "  (conv3): Conv2d(392, 256, kernel_size=(3, 3), stride=(1, 1), padding=(1, 1))\n",
              "  (conv4): Conv2d(256, 128, kernel_size=(3, 3), stride=(1, 1), padding=(1, 1))\n",
              "  (conv5): Conv2d(128, 64, kernel_size=(3, 3), stride=(1, 1), padding=(1, 1))\n",
              "  (avgpool): AdaptiveAvgPool2d(output_size=(4, 4))\n",
              "  (dropout): Dropout(p=0.5)\n",
              "  (ff1): Linear(in_features=1024, out_features=120, bias=True)\n",
              "  (ff2): Linear(in_features=120, out_features=120, bias=True)\n",
              "  (output): Linear(in_features=120, out_features=10, bias=True)\n",
              ")"
            ]
          },
          "metadata": {
            "tags": []
          },
          "execution_count": 5
        }
      ]
    },
    {
      "metadata": {
        "id": "2IhQs2jiUvJh",
        "colab_type": "code",
        "colab": {}
      },
      "cell_type": "code",
      "source": [
        "#construct loss function and optimizer\n",
        "\n",
        "#cross Entropy Loss\n",
        "criterion = nn.CrossEntropyLoss()\n",
        "\n",
        "#SGD\n",
        "optimizer = torch.optim.Adam(model.parameters(), lr=learning_rate)"
      ],
      "execution_count": 0,
      "outputs": []
    },
    {
      "metadata": {
        "id": "f0AI-J4GU090",
        "colab_type": "code",
        "outputId": "ef653259-5fea-491d-9563-68094326a859",
        "colab": {
          "base_uri": "https://localhost:8080/",
          "height": 68
        }
      },
      "cell_type": "code",
      "source": [
        "# Train the model\n",
        "losses = []\n",
        "\n",
        "\n",
        "for epoch in range(num_epochs):\n",
        "    for i, (images, labels) in enumerate(train_loader):\n",
        "        \n",
        "        #move tensors to the configured device\n",
        "        images = images.to(device)\n",
        "        labels = labels.to(device)\n",
        "        \n",
        "        #forward pass\n",
        "        outputs = model(images)\n",
        "        \n",
        "        #computing the loss\n",
        "        loss = criterion(outputs, labels)\n",
        "    \n",
        "        #computing gradient and update model parameters\n",
        "        optimizer.zero_grad()\n",
        "        loss.backward()\n",
        "        optimizer.step()\n",
        "        \n",
        "    losses.append(loss.item())\n",
        "    print(\"Epoch:\", epoch, \"loss:\", loss.item())"
      ],
      "execution_count": 0,
      "outputs": [
        {
          "output_type": "stream",
          "text": [
            "Epoch: 0 loss: 0.9459404945373535\n",
            "Epoch: 1 loss: 0.3378700613975525\n",
            "Epoch: 2 loss: 0.24415847659111023\n"
          ],
          "name": "stdout"
        }
      ]
    },
    {
      "metadata": {
        "id": "RzCVvjbc4kYp",
        "colab_type": "code",
        "outputId": "21f1973c-2be8-49b1-9446-c34721672ac6",
        "colab": {
          "base_uri": "https://localhost:8080/",
          "height": 378
        }
      },
      "cell_type": "code",
      "source": [
        "plt.plot(range(num_epochs), losses)\n",
        "plt.ylabel('Loss')\n",
        "plt.xlabel('epoch')"
      ],
      "execution_count": 0,
      "outputs": [
        {
          "output_type": "execute_result",
          "data": {
            "text/plain": [
              "Text(0.5, 0, 'epoch')"
            ]
          },
          "metadata": {
            "tags": []
          },
          "execution_count": 8
        },
        {
          "output_type": "display_data",
          "data": {
            "image/png": "[encoded data removed]",
            "text/plain": [
              "<Figure size 576x396 with 1 Axes>"
            ]
          },
          "metadata": {
            "tags": []
          }
        }
      ]
    },
    {
      "metadata": {
        "id": "X2bRGf4jqZdK",
        "colab_type": "code",
        "outputId": "969737e0-b631-4c96-8c64-3bd12286a715",
        "colab": {
          "base_uri": "https://localhost:8080/",
          "height": 51
        }
      },
      "cell_type": "code",
      "source": [
        "#test the model\n",
        "\n",
        "model.eval()\n",
        "with torch.no_grad():\n",
        "    correct = 0\n",
        "    total = 0\n",
        "    for images, labels in train_loader:\n",
        "        images = images.to(device)\n",
        "        labels = labels.to(device)\n",
        "        outputs = model(images)\n",
        "        _, predicted = torch.max(outputs.data, 1)\n",
        "        total += labels.size(0)\n",
        "        correct += (predicted == labels).sum().item()\n",
        "\n",
        "    print('Test Accuracy of ', len(train_dataset), ' train images: {} %'.format(100 * correct / total))\n",
        "    \n",
        "    correct = 0\n",
        "    total = 0\n",
        "    for images, labels in test_loader:\n",
        "        images = images.to(device)\n",
        "        labels = labels.to(device)\n",
        "        outputs = model(images)\n",
        "        _, predicted = torch.max(outputs.data, 1)\n",
        "        total += labels.size(0)\n",
        "        correct += (predicted == labels).sum().item()\n",
        "\n",
        "    print('Test Accuracy of ', len(test_dataset), ' test images: {} %'.format(100 * correct / total))"
      ],
      "execution_count": 0,
      "outputs": [
        {
          "output_type": "stream",
          "text": [
            "Test Accuracy of  60000  train images: 92.98666666666666 %\n",
            "Test Accuracy of  10000  test images: 93.04 %\n"
          ],
          "name": "stdout"
        }
      ]
    },
    {
      "metadata": {
        "id": "Pl4CdzeKsPPV",
        "colab_type": "code",
        "colab": {}
      },
      "cell_type": "code",
      "source": [
        ""
      ],
      "execution_count": 0,
      "outputs": []
    }
  ]
}