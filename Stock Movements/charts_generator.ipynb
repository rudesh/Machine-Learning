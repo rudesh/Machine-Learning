{
  "nbformat": 4,
  "nbformat_minor": 0,
  "metadata": {
    "colab": {
      "name": "charts_generator.ipynb",
      "version": "0.3.2",
      "provenance": [],
      "collapsed_sections": []
    },
    "kernelspec": {
      "name": "python3",
      "display_name": "Python 3"
    },
    "accelerator": "GPU"
  },
  "cells": [
    {
      "cell_type": "code",
      "metadata": {
        "id": "Rv5NSSbg8dwM",
        "colab_type": "code",
        "outputId": "89596386-f079-4fb7-9ba8-c9df26124974",
        "colab": {
          "base_uri": "https://localhost:8080/",
          "height": 51
        }
      },
      "source": [
        "from google.colab import drive\n",
        "drive.mount('/content/gdrive')\n",
        "%cd /content/gdrive/My Drive/Colab Notebooks/LIPNLP"
      ],
      "execution_count": 1,
      "outputs": [
        {
          "output_type": "stream",
          "text": [
            "Drive already mounted at /content/gdrive; to attempt to forcibly remount, call drive.mount(\"/content/gdrive\", force_remount=True).\n",
            "/content/gdrive/My Drive/Colab Notebooks/LIPNLP\n"
          ],
          "name": "stdout"
        }
      ]
    },
    {
      "cell_type": "code",
      "metadata": {
        "id": "GULF2_D18ojq",
        "colab_type": "code",
        "outputId": "6206dfba-92e6-4a29-9e19-695200fe33d4",
        "colab": {
          "base_uri": "https://localhost:8080/",
          "height": 34
        }
      },
      "source": [
        "import pandas as pd\n",
        "import numpy as np\n",
        "import dateutil\n",
        "import time\n",
        "import cv2\n",
        "import os\n",
        "from keras.preprocessing.sequence import TimeseriesGenerator\n",
        "\n",
        "\n",
        "import matplotlib.pyplot as plt\n",
        "plt.style.use('seaborn')\n"
      ],
      "execution_count": 2,
      "outputs": [
        {
          "output_type": "stream",
          "text": [
            "Using TensorFlow backend.\n"
          ],
          "name": "stderr"
        }
      ]
    },
    {
      "cell_type": "code",
      "metadata": {
        "id": "JFsAkWZI80uH",
        "colab_type": "code",
        "outputId": "5757dccb-fd2a-42b0-b15a-4377e0d26329",
        "colab": {
          "base_uri": "https://localhost:8080/",
          "height": 204
        }
      },
      "source": [
        "market = pd.read_csv('prices/apple_market.csv')\n",
        "market['date'] = pd.to_datetime(market['date'])\n",
        "market.head()"
      ],
      "execution_count": 0,
      "outputs": [
        {
          "output_type": "execute_result",
          "data": {
            "text/html": [
              "<div>\n",
              "<style scoped>\n",
              "    .dataframe tbody tr th:only-of-type {\n",
              "        vertical-align: middle;\n",
              "    }\n",
              "\n",
              "    .dataframe tbody tr th {\n",
              "        vertical-align: top;\n",
              "    }\n",
              "\n",
              "    .dataframe thead th {\n",
              "        text-align: right;\n",
              "    }\n",
              "</style>\n",
              "<table border=\"1\" class=\"dataframe\">\n",
              "  <thead>\n",
              "    <tr style=\"text-align: right;\">\n",
              "      <th></th>\n",
              "      <th>date</th>\n",
              "      <th>open</th>\n",
              "      <th>high</th>\n",
              "      <th>low</th>\n",
              "      <th>close</th>\n",
              "      <th>volume</th>\n",
              "    </tr>\n",
              "  </thead>\n",
              "  <tbody>\n",
              "    <tr>\n",
              "      <th>0</th>\n",
              "      <td>2006-12-01</td>\n",
              "      <td>13.114285</td>\n",
              "      <td>13.190000</td>\n",
              "      <td>12.871428</td>\n",
              "      <td>13.045714</td>\n",
              "      <td>198769900</td>\n",
              "    </tr>\n",
              "    <tr>\n",
              "      <th>1</th>\n",
              "      <td>2006-12-04</td>\n",
              "      <td>13.125714</td>\n",
              "      <td>13.150000</td>\n",
              "      <td>12.928572</td>\n",
              "      <td>13.017143</td>\n",
              "      <td>177384200</td>\n",
              "    </tr>\n",
              "    <tr>\n",
              "      <th>2</th>\n",
              "      <td>2006-12-05</td>\n",
              "      <td>13.092857</td>\n",
              "      <td>13.190000</td>\n",
              "      <td>12.981428</td>\n",
              "      <td>13.038571</td>\n",
              "      <td>165709600</td>\n",
              "    </tr>\n",
              "    <tr>\n",
              "      <th>3</th>\n",
              "      <td>2006-12-06</td>\n",
              "      <td>12.948571</td>\n",
              "      <td>13.055715</td>\n",
              "      <td>12.810000</td>\n",
              "      <td>12.832857</td>\n",
              "      <td>159546100</td>\n",
              "    </tr>\n",
              "    <tr>\n",
              "      <th>4</th>\n",
              "      <td>2006-12-07</td>\n",
              "      <td>12.861428</td>\n",
              "      <td>12.928572</td>\n",
              "      <td>12.414286</td>\n",
              "      <td>12.434286</td>\n",
              "      <td>251206900</td>\n",
              "    </tr>\n",
              "  </tbody>\n",
              "</table>\n",
              "</div>"
            ],
            "text/plain": [
              "        date       open       high        low      close     volume\n",
              "0 2006-12-01  13.114285  13.190000  12.871428  13.045714  198769900\n",
              "1 2006-12-04  13.125714  13.150000  12.928572  13.017143  177384200\n",
              "2 2006-12-05  13.092857  13.190000  12.981428  13.038571  165709600\n",
              "3 2006-12-06  12.948571  13.055715  12.810000  12.832857  159546100\n",
              "4 2006-12-07  12.861428  12.928572  12.414286  12.434286  251206900"
            ]
          },
          "metadata": {
            "tags": []
          },
          "execution_count": 3
        }
      ]
    },
    {
      "cell_type": "markdown",
      "metadata": {
        "id": "NYTecIUaelKT",
        "colab_type": "text"
      },
      "source": [
        "Reshaping only OPEN column to generate charts, 10 days sequence"
      ]
    },
    {
      "cell_type": "code",
      "metadata": {
        "id": "MQNWPKXSAca3",
        "colab_type": "code",
        "colab": {}
      },
      "source": [
        "#generating sets, 10 days frequency\n",
        "data_gen = TimeseriesGenerator(market['open'], market['date'], length=10, batch_size=2517, sampling_rate=1)"
      ],
      "execution_count": 0,
      "outputs": []
    },
    {
      "cell_type": "code",
      "metadata": {
        "id": "oauF5ic2CPMK",
        "colab_type": "code",
        "outputId": "c0bd9e83-beb8-457f-dda5-1bddabb45ae4",
        "colab": {
          "base_uri": "https://localhost:8080/",
          "height": 34
        }
      },
      "source": [
        "#shape of generated sequence\n",
        "x, y = data_gen[0]\n",
        "x.shape"
      ],
      "execution_count": 0,
      "outputs": [
        {
          "output_type": "execute_result",
          "data": {
            "text/plain": [
              "(2507, 10)"
            ]
          },
          "metadata": {
            "tags": []
          },
          "execution_count": 5
        }
      ]
    },
    {
      "cell_type": "code",
      "metadata": {
        "id": "57RRe8jpCw7O",
        "colab_type": "code",
        "outputId": "a1c7f1d4-205d-449d-cf18-5304efedce87",
        "colab": {
          "base_uri": "https://localhost:8080/",
          "height": 204
        }
      },
      "source": [
        "tf = pd.DataFrame(x)\n",
        "uf = pd.DataFrame(y)\n",
        "\n",
        "res = pd.concat([tf, uf], axis=1, sort=False)\n",
        "res.head()"
      ],
      "execution_count": 0,
      "outputs": [
        {
          "output_type": "execute_result",
          "data": {
            "text/html": [
              "<div>\n",
              "<style scoped>\n",
              "    .dataframe tbody tr th:only-of-type {\n",
              "        vertical-align: middle;\n",
              "    }\n",
              "\n",
              "    .dataframe tbody tr th {\n",
              "        vertical-align: top;\n",
              "    }\n",
              "\n",
              "    .dataframe thead th {\n",
              "        text-align: right;\n",
              "    }\n",
              "</style>\n",
              "<table border=\"1\" class=\"dataframe\">\n",
              "  <thead>\n",
              "    <tr style=\"text-align: right;\">\n",
              "      <th></th>\n",
              "      <th>0</th>\n",
              "      <th>1</th>\n",
              "      <th>2</th>\n",
              "      <th>3</th>\n",
              "      <th>4</th>\n",
              "      <th>5</th>\n",
              "      <th>6</th>\n",
              "      <th>7</th>\n",
              "      <th>8</th>\n",
              "      <th>9</th>\n",
              "      <th>0</th>\n",
              "    </tr>\n",
              "  </thead>\n",
              "  <tbody>\n",
              "    <tr>\n",
              "      <th>0</th>\n",
              "      <td>13.114285</td>\n",
              "      <td>13.125714</td>\n",
              "      <td>13.092857</td>\n",
              "      <td>12.948571</td>\n",
              "      <td>12.861428</td>\n",
              "      <td>12.461429</td>\n",
              "      <td>12.700000</td>\n",
              "      <td>12.658571</td>\n",
              "      <td>12.564285</td>\n",
              "      <td>12.721429</td>\n",
              "      <td>2006-12-15</td>\n",
              "    </tr>\n",
              "    <tr>\n",
              "      <th>1</th>\n",
              "      <td>13.125714</td>\n",
              "      <td>13.092857</td>\n",
              "      <td>12.948571</td>\n",
              "      <td>12.861428</td>\n",
              "      <td>12.461429</td>\n",
              "      <td>12.700000</td>\n",
              "      <td>12.658571</td>\n",
              "      <td>12.564285</td>\n",
              "      <td>12.721429</td>\n",
              "      <td>12.717143</td>\n",
              "      <td>2006-12-18</td>\n",
              "    </tr>\n",
              "    <tr>\n",
              "      <th>2</th>\n",
              "      <td>13.092857</td>\n",
              "      <td>12.948571</td>\n",
              "      <td>12.861428</td>\n",
              "      <td>12.461429</td>\n",
              "      <td>12.700000</td>\n",
              "      <td>12.658571</td>\n",
              "      <td>12.564285</td>\n",
              "      <td>12.721429</td>\n",
              "      <td>12.717143</td>\n",
              "      <td>12.518572</td>\n",
              "      <td>2006-12-19</td>\n",
              "    </tr>\n",
              "    <tr>\n",
              "      <th>3</th>\n",
              "      <td>12.948571</td>\n",
              "      <td>12.861428</td>\n",
              "      <td>12.461429</td>\n",
              "      <td>12.700000</td>\n",
              "      <td>12.658571</td>\n",
              "      <td>12.564285</td>\n",
              "      <td>12.721429</td>\n",
              "      <td>12.717143</td>\n",
              "      <td>12.518572</td>\n",
              "      <td>12.104285</td>\n",
              "      <td>2006-12-20</td>\n",
              "    </tr>\n",
              "    <tr>\n",
              "      <th>4</th>\n",
              "      <td>12.861428</td>\n",
              "      <td>12.461429</td>\n",
              "      <td>12.700000</td>\n",
              "      <td>12.658571</td>\n",
              "      <td>12.564285</td>\n",
              "      <td>12.721429</td>\n",
              "      <td>12.717143</td>\n",
              "      <td>12.518572</td>\n",
              "      <td>12.104285</td>\n",
              "      <td>12.352858</td>\n",
              "      <td>2006-12-21</td>\n",
              "    </tr>\n",
              "  </tbody>\n",
              "</table>\n",
              "</div>"
            ],
            "text/plain": [
              "           0          1          2  ...          8          9          0\n",
              "0  13.114285  13.125714  13.092857  ...  12.564285  12.721429 2006-12-15\n",
              "1  13.125714  13.092857  12.948571  ...  12.721429  12.717143 2006-12-18\n",
              "2  13.092857  12.948571  12.861428  ...  12.717143  12.518572 2006-12-19\n",
              "3  12.948571  12.861428  12.461429  ...  12.518572  12.104285 2006-12-20\n",
              "4  12.861428  12.461429  12.700000  ...  12.104285  12.352858 2006-12-21\n",
              "\n",
              "[5 rows x 11 columns]"
            ]
          },
          "metadata": {
            "tags": []
          },
          "execution_count": 7
        }
      ]
    },
    {
      "cell_type": "markdown",
      "metadata": {
        "id": "EuUiqM2ufKrt",
        "colab_type": "text"
      },
      "source": [
        "Generating chart images and save them as png"
      ]
    },
    {
      "cell_type": "code",
      "metadata": {
        "id": "apvCoGUJzchD",
        "colab_type": "code",
        "outputId": "dd12db64-8352-48d5-f6e1-e216e0aff5ad",
        "colab": {
          "base_uri": "https://localhost:8080/",
          "height": 34
        }
      },
      "source": [
        "for x in range(len(res)):\n",
        "  fig = res.iloc[x,:9].plot().get_figure()\n",
        "  plt.axis('off')\n",
        "  filename = 'charts/' + str(res.iloc[x,10].date()) + '.png'\n",
        "  fig.savefig(filename)\n",
        "  fig.clf()"
      ],
      "execution_count": 0,
      "outputs": [
        {
          "output_type": "display_data",
          "data": {
            "text/plain": [
              "<Figure size 576x396 with 0 Axes>"
            ]
          },
          "metadata": {
            "tags": []
          }
        }
      ]
    },
    {
      "cell_type": "code",
      "metadata": {
        "id": "REt3zunDbTwE",
        "colab_type": "code",
        "colab": {}
      },
      "source": [
        "#read generated images from disk\n",
        "images_list = []\n",
        "images_list += [os.path.join('charts',f) for f in os.listdir('charts') if f.endswith('.png')]"
      ],
      "execution_count": 0,
      "outputs": []
    },
    {
      "cell_type": "code",
      "metadata": {
        "id": "FJ_YSdTGlLn-",
        "colab_type": "code",
        "outputId": "6f7b4f3d-5b5a-4cba-f67f-80499f638a03",
        "colab": {
          "base_uri": "https://localhost:8080/",
          "height": 204
        }
      },
      "source": [
        "res['image_list'] = sorted(images_list)\n",
        "res.head()"
      ],
      "execution_count": 0,
      "outputs": [
        {
          "output_type": "execute_result",
          "data": {
            "text/html": [
              "<div>\n",
              "<style scoped>\n",
              "    .dataframe tbody tr th:only-of-type {\n",
              "        vertical-align: middle;\n",
              "    }\n",
              "\n",
              "    .dataframe tbody tr th {\n",
              "        vertical-align: top;\n",
              "    }\n",
              "\n",
              "    .dataframe thead th {\n",
              "        text-align: right;\n",
              "    }\n",
              "</style>\n",
              "<table border=\"1\" class=\"dataframe\">\n",
              "  <thead>\n",
              "    <tr style=\"text-align: right;\">\n",
              "      <th></th>\n",
              "      <th>0</th>\n",
              "      <th>1</th>\n",
              "      <th>2</th>\n",
              "      <th>3</th>\n",
              "      <th>4</th>\n",
              "      <th>5</th>\n",
              "      <th>6</th>\n",
              "      <th>7</th>\n",
              "      <th>8</th>\n",
              "      <th>9</th>\n",
              "      <th>0</th>\n",
              "      <th>image_list</th>\n",
              "    </tr>\n",
              "  </thead>\n",
              "  <tbody>\n",
              "    <tr>\n",
              "      <th>0</th>\n",
              "      <td>13.114285</td>\n",
              "      <td>13.125714</td>\n",
              "      <td>13.092857</td>\n",
              "      <td>12.948571</td>\n",
              "      <td>12.861428</td>\n",
              "      <td>12.461429</td>\n",
              "      <td>12.700000</td>\n",
              "      <td>12.658571</td>\n",
              "      <td>12.564285</td>\n",
              "      <td>12.721429</td>\n",
              "      <td>2006-12-15</td>\n",
              "      <td>charts/2006-12-15.png</td>\n",
              "    </tr>\n",
              "    <tr>\n",
              "      <th>1</th>\n",
              "      <td>13.125714</td>\n",
              "      <td>13.092857</td>\n",
              "      <td>12.948571</td>\n",
              "      <td>12.861428</td>\n",
              "      <td>12.461429</td>\n",
              "      <td>12.700000</td>\n",
              "      <td>12.658571</td>\n",
              "      <td>12.564285</td>\n",
              "      <td>12.721429</td>\n",
              "      <td>12.717143</td>\n",
              "      <td>2006-12-18</td>\n",
              "      <td>charts/2006-12-18.png</td>\n",
              "    </tr>\n",
              "    <tr>\n",
              "      <th>2</th>\n",
              "      <td>13.092857</td>\n",
              "      <td>12.948571</td>\n",
              "      <td>12.861428</td>\n",
              "      <td>12.461429</td>\n",
              "      <td>12.700000</td>\n",
              "      <td>12.658571</td>\n",
              "      <td>12.564285</td>\n",
              "      <td>12.721429</td>\n",
              "      <td>12.717143</td>\n",
              "      <td>12.518572</td>\n",
              "      <td>2006-12-19</td>\n",
              "      <td>charts/2006-12-19.png</td>\n",
              "    </tr>\n",
              "    <tr>\n",
              "      <th>3</th>\n",
              "      <td>12.948571</td>\n",
              "      <td>12.861428</td>\n",
              "      <td>12.461429</td>\n",
              "      <td>12.700000</td>\n",
              "      <td>12.658571</td>\n",
              "      <td>12.564285</td>\n",
              "      <td>12.721429</td>\n",
              "      <td>12.717143</td>\n",
              "      <td>12.518572</td>\n",
              "      <td>12.104285</td>\n",
              "      <td>2006-12-20</td>\n",
              "      <td>charts/2006-12-20.png</td>\n",
              "    </tr>\n",
              "    <tr>\n",
              "      <th>4</th>\n",
              "      <td>12.861428</td>\n",
              "      <td>12.461429</td>\n",
              "      <td>12.700000</td>\n",
              "      <td>12.658571</td>\n",
              "      <td>12.564285</td>\n",
              "      <td>12.721429</td>\n",
              "      <td>12.717143</td>\n",
              "      <td>12.518572</td>\n",
              "      <td>12.104285</td>\n",
              "      <td>12.352858</td>\n",
              "      <td>2006-12-21</td>\n",
              "      <td>charts/2006-12-21.png</td>\n",
              "    </tr>\n",
              "  </tbody>\n",
              "</table>\n",
              "</div>"
            ],
            "text/plain": [
              "           0          1          2  ...          9          0             image_list\n",
              "0  13.114285  13.125714  13.092857  ...  12.721429 2006-12-15  charts/2006-12-15.png\n",
              "1  13.125714  13.092857  12.948571  ...  12.717143 2006-12-18  charts/2006-12-18.png\n",
              "2  13.092857  12.948571  12.861428  ...  12.518572 2006-12-19  charts/2006-12-19.png\n",
              "3  12.948571  12.861428  12.461429  ...  12.104285 2006-12-20  charts/2006-12-20.png\n",
              "4  12.861428  12.461429  12.700000  ...  12.352858 2006-12-21  charts/2006-12-21.png\n",
              "\n",
              "[5 rows x 12 columns]"
            ]
          },
          "metadata": {
            "tags": []
          },
          "execution_count": 10
        }
      ]
    },
    {
      "cell_type": "code",
      "metadata": {
        "id": "8Oy2pATjlWjo",
        "colab_type": "code",
        "outputId": "1c29526f-94c4-4429-cce3-4fe9435969dd",
        "colab": {
          "base_uri": "https://localhost:8080/",
          "height": 204
        }
      },
      "source": [
        "charts = res.iloc[:,10:12]\n",
        "charts.columns = ['date', 'image_list']\n",
        "charts.to_csv('charts/chart.csv')\n",
        "charts.head()"
      ],
      "execution_count": 0,
      "outputs": [
        {
          "output_type": "execute_result",
          "data": {
            "text/html": [
              "<div>\n",
              "<style scoped>\n",
              "    .dataframe tbody tr th:only-of-type {\n",
              "        vertical-align: middle;\n",
              "    }\n",
              "\n",
              "    .dataframe tbody tr th {\n",
              "        vertical-align: top;\n",
              "    }\n",
              "\n",
              "    .dataframe thead th {\n",
              "        text-align: right;\n",
              "    }\n",
              "</style>\n",
              "<table border=\"1\" class=\"dataframe\">\n",
              "  <thead>\n",
              "    <tr style=\"text-align: right;\">\n",
              "      <th></th>\n",
              "      <th>date</th>\n",
              "      <th>image_list</th>\n",
              "    </tr>\n",
              "  </thead>\n",
              "  <tbody>\n",
              "    <tr>\n",
              "      <th>0</th>\n",
              "      <td>2006-12-15</td>\n",
              "      <td>charts/2006-12-15.png</td>\n",
              "    </tr>\n",
              "    <tr>\n",
              "      <th>1</th>\n",
              "      <td>2006-12-18</td>\n",
              "      <td>charts/2006-12-18.png</td>\n",
              "    </tr>\n",
              "    <tr>\n",
              "      <th>2</th>\n",
              "      <td>2006-12-19</td>\n",
              "      <td>charts/2006-12-19.png</td>\n",
              "    </tr>\n",
              "    <tr>\n",
              "      <th>3</th>\n",
              "      <td>2006-12-20</td>\n",
              "      <td>charts/2006-12-20.png</td>\n",
              "    </tr>\n",
              "    <tr>\n",
              "      <th>4</th>\n",
              "      <td>2006-12-21</td>\n",
              "      <td>charts/2006-12-21.png</td>\n",
              "    </tr>\n",
              "  </tbody>\n",
              "</table>\n",
              "</div>"
            ],
            "text/plain": [
              "        date             image_list\n",
              "0 2006-12-15  charts/2006-12-15.png\n",
              "1 2006-12-18  charts/2006-12-18.png\n",
              "2 2006-12-19  charts/2006-12-19.png\n",
              "3 2006-12-20  charts/2006-12-20.png\n",
              "4 2006-12-21  charts/2006-12-21.png"
            ]
          },
          "metadata": {
            "tags": []
          },
          "execution_count": 12
        }
      ]
    },
    {
      "cell_type": "code",
      "metadata": {
        "id": "6u2P13y7fGdb",
        "colab_type": "code",
        "colab": {}
      },
      "source": [
        "charts = pd.read_csv('charts/chart.csv')\n",
        "charts = [cv2.cvtColor(plt.imread(im,0), cv2.COLOR_BGR2GRAY) for im in charts['image_list']]"
      ],
      "execution_count": 0,
      "outputs": []
    },
    {
      "cell_type": "code",
      "metadata": {
        "id": "x_yUf7x-KzNn",
        "colab_type": "code",
        "outputId": "a144d10d-22bf-4e1d-a609-32a6b8aa4e02",
        "colab": {
          "base_uri": "https://localhost:8080/",
          "height": 34
        }
      },
      "source": [
        "len(charts)"
      ],
      "execution_count": 0,
      "outputs": [
        {
          "output_type": "execute_result",
          "data": {
            "text/plain": [
              "2507"
            ]
          },
          "metadata": {
            "tags": []
          },
          "execution_count": 5
        }
      ]
    },
    {
      "cell_type": "code",
      "metadata": {
        "id": "1pZA46qArDLW",
        "colab_type": "code",
        "colab": {}
      },
      "source": [
        "charts = np.array(charts)\n",
        "charts = charts[0:2502,]"
      ],
      "execution_count": 0,
      "outputs": []
    },
    {
      "cell_type": "code",
      "metadata": {
        "id": "B3pv5rNQrZ8j",
        "colab_type": "code",
        "outputId": "b451d439-0320-4140-ec30-f78c6bf7eeff",
        "colab": {
          "base_uri": "https://localhost:8080/",
          "height": 34
        }
      },
      "source": [
        "charts.shape"
      ],
      "execution_count": 0,
      "outputs": [
        {
          "output_type": "execute_result",
          "data": {
            "text/plain": [
              "(2502, 396, 576)"
            ]
          },
          "metadata": {
            "tags": []
          },
          "execution_count": 9
        }
      ]
    },
    {
      "cell_type": "code",
      "metadata": {
        "id": "IOhYkIKDr1pp",
        "colab_type": "code",
        "outputId": "f6ae9f16-3dbc-41d4-862f-36b28514ccd6",
        "colab": {
          "base_uri": "https://localhost:8080/",
          "height": 34
        }
      },
      "source": [
        "charts = charts.reshape(2502, 396, 576, 1)\n",
        "charts.shape"
      ],
      "execution_count": 0,
      "outputs": [
        {
          "output_type": "execute_result",
          "data": {
            "text/plain": [
              "(2502, 396, 576, 1)"
            ]
          },
          "metadata": {
            "tags": []
          },
          "execution_count": 10
        }
      ]
    },
    {
      "cell_type": "code",
      "metadata": {
        "id": "nE0IqGOhrjRW",
        "colab_type": "code",
        "outputId": "f00e5af9-3f0b-42cd-e444-66e29dbb2810",
        "colab": {
          "base_uri": "https://localhost:8080/",
          "height": 368
        }
      },
      "source": [
        "plt.imshow(charts[0])"
      ],
      "execution_count": 5,
      "outputs": [
        {
          "output_type": "execute_result",
          "data": {
            "text/plain": [
              "<matplotlib.image.AxesImage at 0x7fab6ab49e80>"
            ]
          },
          "metadata": {
            "tags": []
          },
          "execution_count": 5
        },
        {
          "output_type": "display_data",
          "data": {
            "image/png": "[encoded data removed]",
            "text/plain": [
              "<Figure size 576x396 with 1 Axes>"
            ]
          },
          "metadata": {
            "tags": []
          }
        }
      ]
    },
    {
      "cell_type": "code",
      "metadata": {
        "id": "YZDilDgqrmz2",
        "colab_type": "code",
        "colab": {}
      },
      "source": [
        "np.save('chart_data', charts)"
      ],
      "execution_count": 0,
      "outputs": []
    },
    {
      "cell_type": "code",
      "metadata": {
        "id": "hDy8n3OMtYkq",
        "colab_type": "code",
        "colab": {}
      },
      "source": [
        ""
      ],
      "execution_count": 0,
      "outputs": []
    }
  ]
}