{
  "nbformat": 4,
  "nbformat_minor": 0,
  "metadata": {
    "colab": {
      "name": "stock_preprocess.ipynb",
      "version": "0.3.2",
      "provenance": [],
      "collapsed_sections": []
    },
    "kernelspec": {
      "name": "python3",
      "display_name": "Python 3"
    },
    "accelerator": "GPU"
  },
  "cells": [
    {
      "cell_type": "code",
      "metadata": {
        "id": "OhX2gbR-o0Ta",
        "colab_type": "code",
        "outputId": "1a49c09c-e835-4f53-f114-7e7ce4ed7e7b",
        "colab": {
          "base_uri": "https://localhost:8080/",
          "height": 51
        }
      },
      "source": [
        "from google.colab import drive\n",
        "drive.mount('/content/gdrive')\n",
        "%cd /content/gdrive/My Drive/Colab Notebooks/LIPNLP"
      ],
      "execution_count": 0,
      "outputs": [
        {
          "output_type": "stream",
          "text": [
            "Drive already mounted at /content/gdrive; to attempt to forcibly remount, call drive.mount(\"/content/gdrive\", force_remount=True).\n",
            "/content/gdrive/My Drive/Colab Notebooks/LIPNLP\n"
          ],
          "name": "stdout"
        }
      ]
    },
    {
      "cell_type": "code",
      "metadata": {
        "id": "C9NCIpb-o5-g",
        "colab_type": "code",
        "colab": {}
      },
      "source": [
        "import pandas as pd\n",
        "import numpy as np\n",
        "import dateutil\n",
        "import cv2\n",
        "\n",
        "from sklearn import preprocessing\n",
        "\n",
        "import matplotlib.pyplot as plt\n",
        "plt.style.use('seaborn')"
      ],
      "execution_count": 0,
      "outputs": []
    },
    {
      "cell_type": "code",
      "metadata": {
        "id": "gqKpmescpAN8",
        "colab_type": "code",
        "outputId": "c4fdd440-b527-4dc6-f0c1-01173146eeb1",
        "colab": {
          "base_uri": "https://localhost:8080/",
          "height": 204
        }
      },
      "source": [
        "market = pd.read_csv('prices/apple_market.csv')\n",
        "market['date'] = pd.to_datetime(market['date'])\n",
        "market.head()"
      ],
      "execution_count": 0,
      "outputs": [
        {
          "output_type": "execute_result",
          "data": {
            "text/html": [
              "<div>\n",
              "<style scoped>\n",
              "    .dataframe tbody tr th:only-of-type {\n",
              "        vertical-align: middle;\n",
              "    }\n",
              "\n",
              "    .dataframe tbody tr th {\n",
              "        vertical-align: top;\n",
              "    }\n",
              "\n",
              "    .dataframe thead th {\n",
              "        text-align: right;\n",
              "    }\n",
              "</style>\n",
              "<table border=\"1\" class=\"dataframe\">\n",
              "  <thead>\n",
              "    <tr style=\"text-align: right;\">\n",
              "      <th></th>\n",
              "      <th>date</th>\n",
              "      <th>open</th>\n",
              "      <th>high</th>\n",
              "      <th>low</th>\n",
              "      <th>close</th>\n",
              "      <th>volume</th>\n",
              "    </tr>\n",
              "  </thead>\n",
              "  <tbody>\n",
              "    <tr>\n",
              "      <th>0</th>\n",
              "      <td>2006-12-01</td>\n",
              "      <td>13.114285</td>\n",
              "      <td>13.190000</td>\n",
              "      <td>12.871428</td>\n",
              "      <td>13.045714</td>\n",
              "      <td>198769900</td>\n",
              "    </tr>\n",
              "    <tr>\n",
              "      <th>1</th>\n",
              "      <td>2006-12-04</td>\n",
              "      <td>13.125714</td>\n",
              "      <td>13.150000</td>\n",
              "      <td>12.928572</td>\n",
              "      <td>13.017143</td>\n",
              "      <td>177384200</td>\n",
              "    </tr>\n",
              "    <tr>\n",
              "      <th>2</th>\n",
              "      <td>2006-12-05</td>\n",
              "      <td>13.092857</td>\n",
              "      <td>13.190000</td>\n",
              "      <td>12.981428</td>\n",
              "      <td>13.038571</td>\n",
              "      <td>165709600</td>\n",
              "    </tr>\n",
              "    <tr>\n",
              "      <th>3</th>\n",
              "      <td>2006-12-06</td>\n",
              "      <td>12.948571</td>\n",
              "      <td>13.055715</td>\n",
              "      <td>12.810000</td>\n",
              "      <td>12.832857</td>\n",
              "      <td>159546100</td>\n",
              "    </tr>\n",
              "    <tr>\n",
              "      <th>4</th>\n",
              "      <td>2006-12-07</td>\n",
              "      <td>12.861428</td>\n",
              "      <td>12.928572</td>\n",
              "      <td>12.414286</td>\n",
              "      <td>12.434286</td>\n",
              "      <td>251206900</td>\n",
              "    </tr>\n",
              "  </tbody>\n",
              "</table>\n",
              "</div>"
            ],
            "text/plain": [
              "        date       open       high        low      close     volume\n",
              "0 2006-12-01  13.114285  13.190000  12.871428  13.045714  198769900\n",
              "1 2006-12-04  13.125714  13.150000  12.928572  13.017143  177384200\n",
              "2 2006-12-05  13.092857  13.190000  12.981428  13.038571  165709600\n",
              "3 2006-12-06  12.948571  13.055715  12.810000  12.832857  159546100\n",
              "4 2006-12-07  12.861428  12.928572  12.414286  12.434286  251206900"
            ]
          },
          "metadata": {
            "tags": []
          },
          "execution_count": 3
        }
      ]
    },
    {
      "cell_type": "code",
      "metadata": {
        "id": "z24T962io9vr",
        "colab_type": "code",
        "outputId": "8ce20987-9611-4f79-de32-34d01188d35f",
        "colab": {
          "base_uri": "https://localhost:8080/",
          "height": 204
        }
      },
      "source": [
        "news_array = np.load('news_data.npy', allow_pickle=True)\n",
        "news = pd.DataFrame(news_array, columns=['date', 'news'])\n",
        "news['date'] = pd.to_datetime(news['date'])\n",
        "news.head()"
      ],
      "execution_count": 0,
      "outputs": [
        {
          "output_type": "execute_result",
          "data": {
            "text/html": [
              "<div>\n",
              "<style scoped>\n",
              "    .dataframe tbody tr th:only-of-type {\n",
              "        vertical-align: middle;\n",
              "    }\n",
              "\n",
              "    .dataframe tbody tr th {\n",
              "        vertical-align: top;\n",
              "    }\n",
              "\n",
              "    .dataframe thead th {\n",
              "        text-align: right;\n",
              "    }\n",
              "</style>\n",
              "<table border=\"1\" class=\"dataframe\">\n",
              "  <thead>\n",
              "    <tr style=\"text-align: right;\">\n",
              "      <th></th>\n",
              "      <th>date</th>\n",
              "      <th>news</th>\n",
              "    </tr>\n",
              "  </thead>\n",
              "  <tbody>\n",
              "    <tr>\n",
              "      <th>0</th>\n",
              "      <td>2006-12-01</td>\n",
              "      <td>whats tonight 8 pm tlc ashley judd youthaids c...</td>\n",
              "    </tr>\n",
              "    <tr>\n",
              "      <th>1</th>\n",
              "      <td>2006-12-04</td>\n",
              "      <td>housing prices broadest government measure hou...</td>\n",
              "    </tr>\n",
              "    <tr>\n",
              "      <th>2</th>\n",
              "      <td>2006-12-05</td>\n",
              "      <td>news</td>\n",
              "    </tr>\n",
              "    <tr>\n",
              "      <th>3</th>\n",
              "      <td>2006-12-06</td>\n",
              "      <td>honoring rw apple words food 1000 rw apple ’ a...</td>\n",
              "    </tr>\n",
              "    <tr>\n",
              "      <th>4</th>\n",
              "      <td>2006-12-07</td>\n",
              "      <td>homebuilders worries jobs lead decline stocks ...</td>\n",
              "    </tr>\n",
              "  </tbody>\n",
              "</table>\n",
              "</div>"
            ],
            "text/plain": [
              "        date                                               news\n",
              "0 2006-12-01  whats tonight 8 pm tlc ashley judd youthaids c...\n",
              "1 2006-12-04  housing prices broadest government measure hou...\n",
              "2 2006-12-05                                               news\n",
              "3 2006-12-06  honoring rw apple words food 1000 rw apple ’ a...\n",
              "4 2006-12-07  homebuilders worries jobs lead decline stocks ..."
            ]
          },
          "metadata": {
            "tags": []
          },
          "execution_count": 4
        }
      ]
    },
    {
      "cell_type": "code",
      "metadata": {
        "id": "TDtbBGQFpI99",
        "colab_type": "code",
        "outputId": "883f168c-381c-462c-94c0-8ae491974bd5",
        "colab": {
          "base_uri": "https://localhost:8080/",
          "height": 34
        }
      },
      "source": [
        "len(news)"
      ],
      "execution_count": 0,
      "outputs": [
        {
          "output_type": "execute_result",
          "data": {
            "text/plain": [
              "2517"
            ]
          },
          "metadata": {
            "tags": []
          },
          "execution_count": 5
        }
      ]
    },
    {
      "cell_type": "code",
      "metadata": {
        "id": "FXLs2-N91qmM",
        "colab_type": "code",
        "outputId": "a4f296b4-b30f-4489-e4de-b68ac75066a1",
        "colab": {
          "base_uri": "https://localhost:8080/",
          "height": 204
        }
      },
      "source": [
        "charts = pd.read_csv('charts/chart.csv')\n",
        "charts['chart_image'] = [cv2.cvtColor(plt.imread(im,0), cv2.COLOR_BGR2GRAY) for im in charts['image_list']]\n",
        "charts['date'] = pd.to_datetime(charts['date'])\n",
        "\n",
        "charts.head()"
      ],
      "execution_count": 0,
      "outputs": [
        {
          "output_type": "execute_result",
          "data": {
            "text/html": [
              "<div>\n",
              "<style scoped>\n",
              "    .dataframe tbody tr th:only-of-type {\n",
              "        vertical-align: middle;\n",
              "    }\n",
              "\n",
              "    .dataframe tbody tr th {\n",
              "        vertical-align: top;\n",
              "    }\n",
              "\n",
              "    .dataframe thead th {\n",
              "        text-align: right;\n",
              "    }\n",
              "</style>\n",
              "<table border=\"1\" class=\"dataframe\">\n",
              "  <thead>\n",
              "    <tr style=\"text-align: right;\">\n",
              "      <th></th>\n",
              "      <th>Unnamed: 0</th>\n",
              "      <th>date</th>\n",
              "      <th>image_list</th>\n",
              "      <th>chart_image</th>\n",
              "    </tr>\n",
              "  </thead>\n",
              "  <tbody>\n",
              "    <tr>\n",
              "      <th>0</th>\n",
              "      <td>0</td>\n",
              "      <td>2006-12-15</td>\n",
              "      <td>charts/2006-12-15.png</td>\n",
              "      <td>[[255, 255, 255, 255, 255, 255, 255, 255, 255,...</td>\n",
              "    </tr>\n",
              "    <tr>\n",
              "      <th>1</th>\n",
              "      <td>1</td>\n",
              "      <td>2006-12-18</td>\n",
              "      <td>charts/2006-12-18.png</td>\n",
              "      <td>[[255, 255, 255, 255, 255, 255, 255, 255, 255,...</td>\n",
              "    </tr>\n",
              "    <tr>\n",
              "      <th>2</th>\n",
              "      <td>2</td>\n",
              "      <td>2006-12-19</td>\n",
              "      <td>charts/2006-12-19.png</td>\n",
              "      <td>[[255, 255, 255, 255, 255, 255, 255, 255, 255,...</td>\n",
              "    </tr>\n",
              "    <tr>\n",
              "      <th>3</th>\n",
              "      <td>3</td>\n",
              "      <td>2006-12-20</td>\n",
              "      <td>charts/2006-12-20.png</td>\n",
              "      <td>[[255, 255, 255, 255, 255, 255, 255, 255, 255,...</td>\n",
              "    </tr>\n",
              "    <tr>\n",
              "      <th>4</th>\n",
              "      <td>4</td>\n",
              "      <td>2006-12-21</td>\n",
              "      <td>charts/2006-12-21.png</td>\n",
              "      <td>[[255, 255, 255, 255, 255, 255, 255, 255, 255,...</td>\n",
              "    </tr>\n",
              "  </tbody>\n",
              "</table>\n",
              "</div>"
            ],
            "text/plain": [
              "   Unnamed: 0  ...                                        chart_image\n",
              "0           0  ...  [[255, 255, 255, 255, 255, 255, 255, 255, 255,...\n",
              "1           1  ...  [[255, 255, 255, 255, 255, 255, 255, 255, 255,...\n",
              "2           2  ...  [[255, 255, 255, 255, 255, 255, 255, 255, 255,...\n",
              "3           3  ...  [[255, 255, 255, 255, 255, 255, 255, 255, 255,...\n",
              "4           4  ...  [[255, 255, 255, 255, 255, 255, 255, 255, 255,...\n",
              "\n",
              "[5 rows x 4 columns]"
            ]
          },
          "metadata": {
            "tags": []
          },
          "execution_count": 11
        }
      ]
    },
    {
      "cell_type": "code",
      "metadata": {
        "id": "d6Xdjlo_o8gF",
        "colab_type": "code",
        "outputId": "be165ea3-bd4a-46c5-ae1e-2dfcf6aa8dd2",
        "colab": {
          "base_uri": "https://localhost:8080/",
          "height": 34
        }
      },
      "source": [
        "len(charts)"
      ],
      "execution_count": 0,
      "outputs": [
        {
          "output_type": "execute_result",
          "data": {
            "text/plain": [
              "2507"
            ]
          },
          "metadata": {
            "tags": []
          },
          "execution_count": 12
        }
      ]
    },
    {
      "cell_type": "code",
      "metadata": {
        "id": "oRCZcKI_pLMn",
        "colab_type": "code",
        "outputId": "8eb1fa3a-2878-4a25-f0a9-e7282e1f07fb",
        "colab": {
          "base_uri": "https://localhost:8080/",
          "height": 204
        }
      },
      "source": [
        "df = market.merge(news, how='inner', right_index=True, left_index=False, on='date')\n",
        "df.head()"
      ],
      "execution_count": 0,
      "outputs": [
        {
          "output_type": "execute_result",
          "data": {
            "text/html": [
              "<div>\n",
              "<style scoped>\n",
              "    .dataframe tbody tr th:only-of-type {\n",
              "        vertical-align: middle;\n",
              "    }\n",
              "\n",
              "    .dataframe tbody tr th {\n",
              "        vertical-align: top;\n",
              "    }\n",
              "\n",
              "    .dataframe thead th {\n",
              "        text-align: right;\n",
              "    }\n",
              "</style>\n",
              "<table border=\"1\" class=\"dataframe\">\n",
              "  <thead>\n",
              "    <tr style=\"text-align: right;\">\n",
              "      <th></th>\n",
              "      <th>date</th>\n",
              "      <th>open</th>\n",
              "      <th>high</th>\n",
              "      <th>low</th>\n",
              "      <th>close</th>\n",
              "      <th>volume</th>\n",
              "      <th>5D_change</th>\n",
              "      <th>news</th>\n",
              "    </tr>\n",
              "  </thead>\n",
              "  <tbody>\n",
              "    <tr>\n",
              "      <th>0</th>\n",
              "      <td>2006-12-01</td>\n",
              "      <td>13.114285</td>\n",
              "      <td>13.190000</td>\n",
              "      <td>12.871428</td>\n",
              "      <td>13.045714</td>\n",
              "      <td>198769900</td>\n",
              "      <td>12.461429</td>\n",
              "      <td>whats tonight 8 pm tlc ashley judd youthaids c...</td>\n",
              "    </tr>\n",
              "    <tr>\n",
              "      <th>1</th>\n",
              "      <td>2006-12-04</td>\n",
              "      <td>13.125714</td>\n",
              "      <td>13.150000</td>\n",
              "      <td>12.928572</td>\n",
              "      <td>13.017143</td>\n",
              "      <td>177384200</td>\n",
              "      <td>12.700000</td>\n",
              "      <td>housing prices broadest government measure hou...</td>\n",
              "    </tr>\n",
              "    <tr>\n",
              "      <th>2</th>\n",
              "      <td>2006-12-05</td>\n",
              "      <td>13.092857</td>\n",
              "      <td>13.190000</td>\n",
              "      <td>12.981428</td>\n",
              "      <td>13.038571</td>\n",
              "      <td>165709600</td>\n",
              "      <td>12.658571</td>\n",
              "      <td>news</td>\n",
              "    </tr>\n",
              "    <tr>\n",
              "      <th>3</th>\n",
              "      <td>2006-12-06</td>\n",
              "      <td>12.948571</td>\n",
              "      <td>13.055715</td>\n",
              "      <td>12.810000</td>\n",
              "      <td>12.832857</td>\n",
              "      <td>159546100</td>\n",
              "      <td>12.564285</td>\n",
              "      <td>honoring rw apple words food 1000 rw apple ’ a...</td>\n",
              "    </tr>\n",
              "    <tr>\n",
              "      <th>4</th>\n",
              "      <td>2006-12-07</td>\n",
              "      <td>12.861428</td>\n",
              "      <td>12.928572</td>\n",
              "      <td>12.414286</td>\n",
              "      <td>12.434286</td>\n",
              "      <td>251206900</td>\n",
              "      <td>12.721429</td>\n",
              "      <td>homebuilders worries jobs lead decline stocks ...</td>\n",
              "    </tr>\n",
              "  </tbody>\n",
              "</table>\n",
              "</div>"
            ],
            "text/plain": [
              "        date  ...                                               news\n",
              "0 2006-12-01  ...  whats tonight 8 pm tlc ashley judd youthaids c...\n",
              "1 2006-12-04  ...  housing prices broadest government measure hou...\n",
              "2 2006-12-05  ...                                               news\n",
              "3 2006-12-06  ...  honoring rw apple words food 1000 rw apple ’ a...\n",
              "4 2006-12-07  ...  homebuilders worries jobs lead decline stocks ...\n",
              "\n",
              "[5 rows x 8 columns]"
            ]
          },
          "metadata": {
            "tags": []
          },
          "execution_count": 23
        }
      ]
    },
    {
      "cell_type": "code",
      "metadata": {
        "id": "8c0VcCf66mMy",
        "colab_type": "code",
        "outputId": "2f15c23c-d833-41b4-d7ee-f63c627f7751",
        "colab": {
          "base_uri": "https://localhost:8080/",
          "height": 306
        }
      },
      "source": [
        "df = df.merge(charts, how='inner', right_index=True, left_index=False, on='date')\n",
        "df = df.reset_index()\n",
        "df.head()"
      ],
      "execution_count": 0,
      "outputs": [
        {
          "output_type": "execute_result",
          "data": {
            "text/html": [
              "<div>\n",
              "<style scoped>\n",
              "    .dataframe tbody tr th:only-of-type {\n",
              "        vertical-align: middle;\n",
              "    }\n",
              "\n",
              "    .dataframe tbody tr th {\n",
              "        vertical-align: top;\n",
              "    }\n",
              "\n",
              "    .dataframe thead th {\n",
              "        text-align: right;\n",
              "    }\n",
              "</style>\n",
              "<table border=\"1\" class=\"dataframe\">\n",
              "  <thead>\n",
              "    <tr style=\"text-align: right;\">\n",
              "      <th></th>\n",
              "      <th>index</th>\n",
              "      <th>date</th>\n",
              "      <th>open</th>\n",
              "      <th>high</th>\n",
              "      <th>low</th>\n",
              "      <th>close</th>\n",
              "      <th>volume</th>\n",
              "      <th>5D_change</th>\n",
              "      <th>news</th>\n",
              "      <th>Unnamed: 0</th>\n",
              "      <th>image_list</th>\n",
              "      <th>chart_image</th>\n",
              "    </tr>\n",
              "  </thead>\n",
              "  <tbody>\n",
              "    <tr>\n",
              "      <th>0</th>\n",
              "      <td>10</td>\n",
              "      <td>2006-12-15</td>\n",
              "      <td>12.717143</td>\n",
              "      <td>12.745714</td>\n",
              "      <td>12.475715</td>\n",
              "      <td>12.531428</td>\n",
              "      <td>184984800</td>\n",
              "      <td>11.922857</td>\n",
              "      <td>adam ’ ms madam kristin chenoweth uses every t...</td>\n",
              "      <td>0</td>\n",
              "      <td>charts/2006-12-15.png</td>\n",
              "      <td>[[255, 255, 255, 255, 255, 255, 255, 255, 255,...</td>\n",
              "    </tr>\n",
              "    <tr>\n",
              "      <th>1</th>\n",
              "      <td>11</td>\n",
              "      <td>2006-12-18</td>\n",
              "      <td>12.518572</td>\n",
              "      <td>12.571428</td>\n",
              "      <td>12.084286</td>\n",
              "      <td>12.210000</td>\n",
              "      <td>180394200</td>\n",
              "      <td>11.735714</td>\n",
              "      <td>apple delays earnings statement due options gr...</td>\n",
              "      <td>1</td>\n",
              "      <td>charts/2006-12-18.png</td>\n",
              "      <td>[[255, 255, 255, 255, 255, 255, 255, 255, 255,...</td>\n",
              "    </tr>\n",
              "    <tr>\n",
              "      <th>2</th>\n",
              "      <td>12</td>\n",
              "      <td>2006-12-19</td>\n",
              "      <td>12.104285</td>\n",
              "      <td>12.382857</td>\n",
              "      <td>11.945714</td>\n",
              "      <td>12.330000</td>\n",
              "      <td>227851400</td>\n",
              "      <td>11.164286</td>\n",
              "      <td>maple ’ got new tricks maple new dimensionsonl...</td>\n",
              "      <td>2</td>\n",
              "      <td>charts/2006-12-19.png</td>\n",
              "      <td>[[255, 255, 255, 255, 255, 255, 255, 255, 255,...</td>\n",
              "    </tr>\n",
              "    <tr>\n",
              "      <th>3</th>\n",
              "      <td>13</td>\n",
              "      <td>2006-12-20</td>\n",
              "      <td>12.352858</td>\n",
              "      <td>12.381429</td>\n",
              "      <td>12.105714</td>\n",
              "      <td>12.108571</td>\n",
              "      <td>141922900</td>\n",
              "      <td>11.460000</td>\n",
              "      <td>recent openings new shows new york include rev...</td>\n",
              "      <td>3</td>\n",
              "      <td>charts/2006-12-20.png</td>\n",
              "      <td>[[255, 255, 255, 255, 255, 255, 255, 255, 255,...</td>\n",
              "    </tr>\n",
              "    <tr>\n",
              "      <th>4</th>\n",
              "      <td>14</td>\n",
              "      <td>2006-12-21</td>\n",
              "      <td>12.100000</td>\n",
              "      <td>12.211429</td>\n",
              "      <td>11.742857</td>\n",
              "      <td>11.842857</td>\n",
              "      <td>225899800</td>\n",
              "      <td>11.992857</td>\n",
              "      <td>news</td>\n",
              "      <td>4</td>\n",
              "      <td>charts/2006-12-21.png</td>\n",
              "      <td>[[255, 255, 255, 255, 255, 255, 255, 255, 255,...</td>\n",
              "    </tr>\n",
              "  </tbody>\n",
              "</table>\n",
              "</div>"
            ],
            "text/plain": [
              "   index  ...                                        chart_image\n",
              "0     10  ...  [[255, 255, 255, 255, 255, 255, 255, 255, 255,...\n",
              "1     11  ...  [[255, 255, 255, 255, 255, 255, 255, 255, 255,...\n",
              "2     12  ...  [[255, 255, 255, 255, 255, 255, 255, 255, 255,...\n",
              "3     13  ...  [[255, 255, 255, 255, 255, 255, 255, 255, 255,...\n",
              "4     14  ...  [[255, 255, 255, 255, 255, 255, 255, 255, 255,...\n",
              "\n",
              "[5 rows x 12 columns]"
            ]
          },
          "metadata": {
            "tags": []
          },
          "execution_count": 24
        }
      ]
    },
    {
      "cell_type": "code",
      "metadata": {
        "id": "jyXcBMNpkO2I",
        "colab_type": "code",
        "outputId": "ddcb1389-3e0b-4a49-e164-1bc0cb1e7814",
        "colab": {
          "base_uri": "https://localhost:8080/",
          "height": 359
        }
      },
      "source": [
        "df = market\n",
        "day5change = [df.iloc[x+5,1] for x in range(len(df)-5)]\n",
        "day5change.extend([0,0,0,0,0])\n",
        "df['5D_change'] = day5change\n",
        "\n",
        "df.head(10)"
      ],
      "execution_count": 0,
      "outputs": [
        {
          "output_type": "execute_result",
          "data": {
            "text/html": [
              "<div>\n",
              "<style scoped>\n",
              "    .dataframe tbody tr th:only-of-type {\n",
              "        vertical-align: middle;\n",
              "    }\n",
              "\n",
              "    .dataframe tbody tr th {\n",
              "        vertical-align: top;\n",
              "    }\n",
              "\n",
              "    .dataframe thead th {\n",
              "        text-align: right;\n",
              "    }\n",
              "</style>\n",
              "<table border=\"1\" class=\"dataframe\">\n",
              "  <thead>\n",
              "    <tr style=\"text-align: right;\">\n",
              "      <th></th>\n",
              "      <th>date</th>\n",
              "      <th>open</th>\n",
              "      <th>high</th>\n",
              "      <th>low</th>\n",
              "      <th>close</th>\n",
              "      <th>volume</th>\n",
              "      <th>5D_change</th>\n",
              "    </tr>\n",
              "  </thead>\n",
              "  <tbody>\n",
              "    <tr>\n",
              "      <th>0</th>\n",
              "      <td>2006-12-01</td>\n",
              "      <td>13.114285</td>\n",
              "      <td>13.190000</td>\n",
              "      <td>12.871428</td>\n",
              "      <td>13.045714</td>\n",
              "      <td>198769900</td>\n",
              "      <td>12.461429</td>\n",
              "    </tr>\n",
              "    <tr>\n",
              "      <th>1</th>\n",
              "      <td>2006-12-04</td>\n",
              "      <td>13.125714</td>\n",
              "      <td>13.150000</td>\n",
              "      <td>12.928572</td>\n",
              "      <td>13.017143</td>\n",
              "      <td>177384200</td>\n",
              "      <td>12.700000</td>\n",
              "    </tr>\n",
              "    <tr>\n",
              "      <th>2</th>\n",
              "      <td>2006-12-05</td>\n",
              "      <td>13.092857</td>\n",
              "      <td>13.190000</td>\n",
              "      <td>12.981428</td>\n",
              "      <td>13.038571</td>\n",
              "      <td>165709600</td>\n",
              "      <td>12.658571</td>\n",
              "    </tr>\n",
              "    <tr>\n",
              "      <th>3</th>\n",
              "      <td>2006-12-06</td>\n",
              "      <td>12.948571</td>\n",
              "      <td>13.055715</td>\n",
              "      <td>12.810000</td>\n",
              "      <td>12.832857</td>\n",
              "      <td>159546100</td>\n",
              "      <td>12.564285</td>\n",
              "    </tr>\n",
              "    <tr>\n",
              "      <th>4</th>\n",
              "      <td>2006-12-07</td>\n",
              "      <td>12.861428</td>\n",
              "      <td>12.928572</td>\n",
              "      <td>12.414286</td>\n",
              "      <td>12.434286</td>\n",
              "      <td>251206900</td>\n",
              "      <td>12.721429</td>\n",
              "    </tr>\n",
              "    <tr>\n",
              "      <th>5</th>\n",
              "      <td>2006-12-08</td>\n",
              "      <td>12.461429</td>\n",
              "      <td>12.770000</td>\n",
              "      <td>12.428572</td>\n",
              "      <td>12.608571</td>\n",
              "      <td>196069300</td>\n",
              "      <td>12.717143</td>\n",
              "    </tr>\n",
              "    <tr>\n",
              "      <th>6</th>\n",
              "      <td>2006-12-11</td>\n",
              "      <td>12.700000</td>\n",
              "      <td>12.757143</td>\n",
              "      <td>12.578571</td>\n",
              "      <td>12.678572</td>\n",
              "      <td>124945100</td>\n",
              "      <td>12.518572</td>\n",
              "    </tr>\n",
              "    <tr>\n",
              "      <th>7</th>\n",
              "      <td>2006-12-12</td>\n",
              "      <td>12.658571</td>\n",
              "      <td>12.691428</td>\n",
              "      <td>12.218572</td>\n",
              "      <td>12.305715</td>\n",
              "      <td>256655000</td>\n",
              "      <td>12.104285</td>\n",
              "    </tr>\n",
              "    <tr>\n",
              "      <th>8</th>\n",
              "      <td>2006-12-13</td>\n",
              "      <td>12.564285</td>\n",
              "      <td>12.724286</td>\n",
              "      <td>12.450000</td>\n",
              "      <td>12.721429</td>\n",
              "      <td>214263000</td>\n",
              "      <td>12.352858</td>\n",
              "    </tr>\n",
              "    <tr>\n",
              "      <th>9</th>\n",
              "      <td>2006-12-14</td>\n",
              "      <td>12.721429</td>\n",
              "      <td>12.857142</td>\n",
              "      <td>12.608571</td>\n",
              "      <td>12.650000</td>\n",
              "      <td>208082700</td>\n",
              "      <td>12.100000</td>\n",
              "    </tr>\n",
              "  </tbody>\n",
              "</table>\n",
              "</div>"
            ],
            "text/plain": [
              "        date       open       high        low      close     volume  5D_change\n",
              "0 2006-12-01  13.114285  13.190000  12.871428  13.045714  198769900  12.461429\n",
              "1 2006-12-04  13.125714  13.150000  12.928572  13.017143  177384200  12.700000\n",
              "2 2006-12-05  13.092857  13.190000  12.981428  13.038571  165709600  12.658571\n",
              "3 2006-12-06  12.948571  13.055715  12.810000  12.832857  159546100  12.564285\n",
              "4 2006-12-07  12.861428  12.928572  12.414286  12.434286  251206900  12.721429\n",
              "5 2006-12-08  12.461429  12.770000  12.428572  12.608571  196069300  12.717143\n",
              "6 2006-12-11  12.700000  12.757143  12.578571  12.678572  124945100  12.518572\n",
              "7 2006-12-12  12.658571  12.691428  12.218572  12.305715  256655000  12.104285\n",
              "8 2006-12-13  12.564285  12.724286  12.450000  12.721429  214263000  12.352858\n",
              "9 2006-12-14  12.721429  12.857142  12.608571  12.650000  208082700  12.100000"
            ]
          },
          "metadata": {
            "tags": []
          },
          "execution_count": 25
        }
      ]
    },
    {
      "cell_type": "code",
      "metadata": {
        "id": "4REtfEcmnjfZ",
        "colab_type": "code",
        "outputId": "d9d9af20-ddbd-43d7-a459-80ba65696ed2",
        "colab": {
          "base_uri": "https://localhost:8080/",
          "height": 359
        }
      },
      "source": [
        "df = df[['date', 'volume', 'high', 'low', '5D_change']]\n",
        "df = df.iloc[10:len(df)-5,]\n",
        "df.head(10)"
      ],
      "execution_count": 0,
      "outputs": [
        {
          "output_type": "execute_result",
          "data": {
            "text/html": [
              "<div>\n",
              "<style scoped>\n",
              "    .dataframe tbody tr th:only-of-type {\n",
              "        vertical-align: middle;\n",
              "    }\n",
              "\n",
              "    .dataframe tbody tr th {\n",
              "        vertical-align: top;\n",
              "    }\n",
              "\n",
              "    .dataframe thead th {\n",
              "        text-align: right;\n",
              "    }\n",
              "</style>\n",
              "<table border=\"1\" class=\"dataframe\">\n",
              "  <thead>\n",
              "    <tr style=\"text-align: right;\">\n",
              "      <th></th>\n",
              "      <th>date</th>\n",
              "      <th>volume</th>\n",
              "      <th>high</th>\n",
              "      <th>low</th>\n",
              "      <th>5D_change</th>\n",
              "    </tr>\n",
              "  </thead>\n",
              "  <tbody>\n",
              "    <tr>\n",
              "      <th>10</th>\n",
              "      <td>2006-12-15</td>\n",
              "      <td>184984800</td>\n",
              "      <td>12.745714</td>\n",
              "      <td>12.475715</td>\n",
              "      <td>11.922857</td>\n",
              "    </tr>\n",
              "    <tr>\n",
              "      <th>11</th>\n",
              "      <td>2006-12-18</td>\n",
              "      <td>180394200</td>\n",
              "      <td>12.571428</td>\n",
              "      <td>12.084286</td>\n",
              "      <td>11.735714</td>\n",
              "    </tr>\n",
              "    <tr>\n",
              "      <th>12</th>\n",
              "      <td>2006-12-19</td>\n",
              "      <td>227851400</td>\n",
              "      <td>12.382857</td>\n",
              "      <td>11.945714</td>\n",
              "      <td>11.164286</td>\n",
              "    </tr>\n",
              "    <tr>\n",
              "      <th>13</th>\n",
              "      <td>2006-12-20</td>\n",
              "      <td>141922900</td>\n",
              "      <td>12.381429</td>\n",
              "      <td>12.105714</td>\n",
              "      <td>11.460000</td>\n",
              "    </tr>\n",
              "    <tr>\n",
              "      <th>14</th>\n",
              "      <td>2006-12-21</td>\n",
              "      <td>225899800</td>\n",
              "      <td>12.211429</td>\n",
              "      <td>11.742857</td>\n",
              "      <td>11.992857</td>\n",
              "    </tr>\n",
              "    <tr>\n",
              "      <th>15</th>\n",
              "      <td>2006-12-22</td>\n",
              "      <td>153325900</td>\n",
              "      <td>12.005714</td>\n",
              "      <td>11.657143</td>\n",
              "      <td>12.327143</td>\n",
              "    </tr>\n",
              "    <tr>\n",
              "      <th>16</th>\n",
              "      <td>2006-12-26</td>\n",
              "      <td>122672200</td>\n",
              "      <td>11.795714</td>\n",
              "      <td>11.555715</td>\n",
              "      <td>12.007143</td>\n",
              "    </tr>\n",
              "    <tr>\n",
              "      <th>17</th>\n",
              "      <td>2006-12-27</td>\n",
              "      <td>483938700</td>\n",
              "      <td>11.714286</td>\n",
              "      <td>10.967143</td>\n",
              "      <td>12.252857</td>\n",
              "    </tr>\n",
              "    <tr>\n",
              "      <th>18</th>\n",
              "      <td>2006-12-28</td>\n",
              "      <td>279969200</td>\n",
              "      <td>11.607142</td>\n",
              "      <td>11.378572</td>\n",
              "      <td>12.280000</td>\n",
              "    </tr>\n",
              "    <tr>\n",
              "      <th>19</th>\n",
              "      <td>2006-12-29</td>\n",
              "      <td>269107300</td>\n",
              "      <td>12.200000</td>\n",
              "      <td>11.908571</td>\n",
              "      <td>12.350000</td>\n",
              "    </tr>\n",
              "  </tbody>\n",
              "</table>\n",
              "</div>"
            ],
            "text/plain": [
              "         date     volume       high        low  5D_change\n",
              "10 2006-12-15  184984800  12.745714  12.475715  11.922857\n",
              "11 2006-12-18  180394200  12.571428  12.084286  11.735714\n",
              "12 2006-12-19  227851400  12.382857  11.945714  11.164286\n",
              "13 2006-12-20  141922900  12.381429  12.105714  11.460000\n",
              "14 2006-12-21  225899800  12.211429  11.742857  11.992857\n",
              "15 2006-12-22  153325900  12.005714  11.657143  12.327143\n",
              "16 2006-12-26  122672200  11.795714  11.555715  12.007143\n",
              "17 2006-12-27  483938700  11.714286  10.967143  12.252857\n",
              "18 2006-12-28  279969200  11.607142  11.378572  12.280000\n",
              "19 2006-12-29  269107300  12.200000  11.908571  12.350000"
            ]
          },
          "metadata": {
            "tags": []
          },
          "execution_count": 26
        }
      ]
    },
    {
      "cell_type": "code",
      "metadata": {
        "id": "xaFLYtkWNXHH",
        "colab_type": "code",
        "colab": {}
      },
      "source": [
        "x = np.array(df[['volume', 'high', 'low']])\n",
        "y = np.array(df['5D_change'])\n",
        "\n",
        "std_scale = preprocessing.StandardScaler().fit(x)\n",
        "x = std_scale.transform(x)"
      ],
      "execution_count": 0,
      "outputs": []
    },
    {
      "cell_type": "code",
      "metadata": {
        "id": "7eLwRwpgkYMb",
        "colab_type": "code",
        "outputId": "7673d80a-3b67-4245-f2c2-6aac367a069c",
        "colab": {
          "base_uri": "https://localhost:8080/",
          "height": 136
        }
      },
      "source": [
        "x"
      ],
      "execution_count": 0,
      "outputs": [
        {
          "output_type": "execute_result",
          "data": {
            "text/plain": [
              "array([[ 0.50903257, -1.33702755, -1.33051248],\n",
              "       [ 0.46271123, -1.34181754, -1.34143563],\n",
              "       [ 0.94157698, -1.34700013, -1.3453026 ],\n",
              "       ...,\n",
              "       [-1.07069102,  1.35070213,  1.38149736],\n",
              "       [-1.06225841,  1.39055313,  1.39126435],\n",
              "       [-1.0955479 ,  1.40237104,  1.43005347]])"
            ]
          },
          "metadata": {
            "tags": []
          },
          "execution_count": 28
        }
      ]
    },
    {
      "cell_type": "code",
      "metadata": {
        "id": "Ar8UOL6JjSDP",
        "colab_type": "code",
        "colab": {}
      },
      "source": [
        "#saving data to numpy arrays for future use\n",
        "\n",
        "np.save('stock_data', x)\n",
        "np.save('targets', y)"
      ],
      "execution_count": 0,
      "outputs": []
    },
    {
      "cell_type": "code",
      "metadata": {
        "id": "CGju1Fw1qSaS",
        "colab_type": "code",
        "colab": {}
      },
      "source": [
        ""
      ],
      "execution_count": 0,
      "outputs": []
    }
  ]
}