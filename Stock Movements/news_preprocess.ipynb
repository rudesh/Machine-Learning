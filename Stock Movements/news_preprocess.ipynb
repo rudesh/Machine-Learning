{
  "nbformat": 4,
  "nbformat_minor": 0,
  "metadata": {
    "colab": {
      "name": "news_preprocess.ipynb",
      "version": "0.3.2",
      "provenance": [],
      "collapsed_sections": []
    },
    "kernelspec": {
      "name": "python3",
      "display_name": "Python 3"
    },
    "accelerator": "GPU"
  },
  "cells": [
    {
      "cell_type": "code",
      "metadata": {
        "id": "krlX7HeyO_xw",
        "colab_type": "code",
        "outputId": "8c039c88-5e22-4943-c021-ee09fda3347a",
        "colab": {
          "base_uri": "https://localhost:8080/",
          "height": 51
        }
      },
      "source": [
        "from google.colab import drive\n",
        "drive.mount('/content/gdrive')\n",
        "%cd /content/gdrive/My Drive/Colab Notebooks/LIPNLP"
      ],
      "execution_count": 1,
      "outputs": [
        {
          "output_type": "stream",
          "text": [
            "Drive already mounted at /content/gdrive; to attempt to forcibly remount, call drive.mount(\"/content/gdrive\", force_remount=True).\n",
            "/content/gdrive/My Drive/Colab Notebooks/LIPNLP\n"
          ],
          "name": "stdout"
        }
      ]
    },
    {
      "cell_type": "code",
      "metadata": {
        "id": "4s3CWIyfPgsj",
        "colab_type": "code",
        "colab": {
          "base_uri": "https://localhost:8080/",
          "height": 34
        },
        "outputId": "8fe54ce8-8b51-4a1a-e6c4-9f1d31494c91"
      },
      "source": [
        "import pandas as pd\n",
        "import numpy as np\n",
        "import os\n",
        "import string\n",
        "\n",
        "import matplotlib.pyplot as plt\n",
        "plt.style.use('seaborn')\n",
        "\n",
        "from keras.preprocessing.text import Tokenizer\n",
        "from keras.preprocessing.sequence import pad_sequences"
      ],
      "execution_count": 2,
      "outputs": [
        {
          "output_type": "stream",
          "text": [
            "Using TensorFlow backend.\n"
          ],
          "name": "stderr"
        }
      ]
    },
    {
      "cell_type": "code",
      "metadata": {
        "id": "HlrOP2l3x5Xo",
        "colab_type": "code",
        "colab": {
          "base_uri": "https://localhost:8080/",
          "height": 173
        },
        "outputId": "3442c299-5680-40bc-abb7-2c63082c74d9"
      },
      "source": [
        "import nltk\n",
        "nltk.download('stopwords')\n",
        "nltk.download('punkt')\n",
        "nltk.download('vader_lexicon')\n",
        "\n",
        "from nltk.tokenize import sent_tokenize, word_tokenize\n",
        "from nltk.corpus import stopwords\n",
        "from nltk.sentiment.vader import SentimentIntensityAnalyzer"
      ],
      "execution_count": 3,
      "outputs": [
        {
          "output_type": "stream",
          "text": [
            "[nltk_data] Downloading package stopwords to /root/nltk_data...\n",
            "[nltk_data]   Package stopwords is already up-to-date!\n",
            "[nltk_data] Downloading package punkt to /root/nltk_data...\n",
            "[nltk_data]   Package punkt is already up-to-date!\n",
            "[nltk_data] Downloading package vader_lexicon to /root/nltk_data...\n",
            "[nltk_data]   Package vader_lexicon is already up-to-date!\n"
          ],
          "name": "stdout"
        },
        {
          "output_type": "stream",
          "text": [
            "/usr/local/lib/python3.6/dist-packages/nltk/twitter/__init__.py:20: UserWarning: The twython library has not been installed. Some functionality from the twitter package will not be available.\n",
            "  warnings.warn(\"The twython library has not been installed. \"\n"
          ],
          "name": "stderr"
        }
      ]
    },
    {
      "cell_type": "markdown",
      "metadata": {
        "id": "yMDKwVJncZX0",
        "colab_type": "text"
      },
      "source": [
        "Loading news dataset,"
      ]
    },
    {
      "cell_type": "code",
      "metadata": {
        "id": "nBpZtRJ7PEnC",
        "colab_type": "code",
        "outputId": "8821f3ca-3e84-4756-b392-02d291712419",
        "colab": {
          "base_uri": "https://localhost:8080/",
          "height": 204
        }
      },
      "source": [
        "news = pd.read_csv('news/apple_news.csv')\n",
        "\n",
        "#replace NAN with 'Hello World'\n",
        "news = news.replace(np.nan, 'HELLO WORLD', regex=True)\n",
        "\n",
        "#convert to datetime\n",
        "news['date'] = pd.to_datetime(news['date'])\n",
        "news.head()"
      ],
      "execution_count": 4,
      "outputs": [
        {
          "output_type": "execute_result",
          "data": {
            "text/html": [
              "<div>\n",
              "<style scoped>\n",
              "    .dataframe tbody tr th:only-of-type {\n",
              "        vertical-align: middle;\n",
              "    }\n",
              "\n",
              "    .dataframe tbody tr th {\n",
              "        vertical-align: top;\n",
              "    }\n",
              "\n",
              "    .dataframe thead th {\n",
              "        text-align: right;\n",
              "    }\n",
              "</style>\n",
              "<table border=\"1\" class=\"dataframe\">\n",
              "  <thead>\n",
              "    <tr style=\"text-align: right;\">\n",
              "      <th></th>\n",
              "      <th>date</th>\n",
              "      <th>news</th>\n",
              "    </tr>\n",
              "  </thead>\n",
              "  <tbody>\n",
              "    <tr>\n",
              "      <th>0</th>\n",
              "      <td>2006-12-01</td>\n",
              "      <td>WHAT'S ON TONIGHT : 8 P.M. (TLC) ASHLEY JUDD A...</td>\n",
              "    </tr>\n",
              "    <tr>\n",
              "      <th>1</th>\n",
              "      <td>2006-12-04</td>\n",
              "      <td>More on Housing Prices : The broadest governme...</td>\n",
              "    </tr>\n",
              "    <tr>\n",
              "      <th>2</th>\n",
              "      <td>2006-12-05</td>\n",
              "      <td>HELLO WORLD</td>\n",
              "    </tr>\n",
              "    <tr>\n",
              "      <th>3</th>\n",
              "      <td>2006-12-06</td>\n",
              "      <td>Honoring R.W. Apple in Words and Food : About ...</td>\n",
              "    </tr>\n",
              "    <tr>\n",
              "      <th>4</th>\n",
              "      <td>2006-12-07</td>\n",
              "      <td>Homebuilders, and Worries Over Jobs, Lead a De...</td>\n",
              "    </tr>\n",
              "  </tbody>\n",
              "</table>\n",
              "</div>"
            ],
            "text/plain": [
              "        date                                               news\n",
              "0 2006-12-01  WHAT'S ON TONIGHT : 8 P.M. (TLC) ASHLEY JUDD A...\n",
              "1 2006-12-04  More on Housing Prices : The broadest governme...\n",
              "2 2006-12-05                                        HELLO WORLD\n",
              "3 2006-12-06  Honoring R.W. Apple in Words and Food : About ...\n",
              "4 2006-12-07  Homebuilders, and Worries Over Jobs, Lead a De..."
            ]
          },
          "metadata": {
            "tags": []
          },
          "execution_count": 4
        }
      ]
    },
    {
      "cell_type": "code",
      "metadata": {
        "id": "S4PmbYI_M599",
        "colab_type": "code",
        "colab": {
          "base_uri": "https://localhost:8080/",
          "height": 204
        },
        "outputId": "d43923cd-be05-415a-af89-e2c53ae22bf1"
      },
      "source": [
        "#nltk sentiment analyser\n",
        "sia = SentimentIntensityAnalyzer()\n",
        "\n",
        "#perform sentiment analysis and get it into a list\n",
        "sentiment = [sia.polarity_scores(line) for line in news['news']]\n",
        "\n",
        "#filter the compound values only\n",
        "news['polarity'] = [sentiment[r]['compound'] for r in range(len(sentiment))]\n",
        "news.head()"
      ],
      "execution_count": 5,
      "outputs": [
        {
          "output_type": "execute_result",
          "data": {
            "text/html": [
              "<div>\n",
              "<style scoped>\n",
              "    .dataframe tbody tr th:only-of-type {\n",
              "        vertical-align: middle;\n",
              "    }\n",
              "\n",
              "    .dataframe tbody tr th {\n",
              "        vertical-align: top;\n",
              "    }\n",
              "\n",
              "    .dataframe thead th {\n",
              "        text-align: right;\n",
              "    }\n",
              "</style>\n",
              "<table border=\"1\" class=\"dataframe\">\n",
              "  <thead>\n",
              "    <tr style=\"text-align: right;\">\n",
              "      <th></th>\n",
              "      <th>date</th>\n",
              "      <th>news</th>\n",
              "      <th>polarity</th>\n",
              "    </tr>\n",
              "  </thead>\n",
              "  <tbody>\n",
              "    <tr>\n",
              "      <th>0</th>\n",
              "      <td>2006-12-01</td>\n",
              "      <td>WHAT'S ON TONIGHT : 8 P.M. (TLC) ASHLEY JUDD A...</td>\n",
              "      <td>0.7707</td>\n",
              "    </tr>\n",
              "    <tr>\n",
              "      <th>1</th>\n",
              "      <td>2006-12-04</td>\n",
              "      <td>More on Housing Prices : The broadest governme...</td>\n",
              "      <td>0.8720</td>\n",
              "    </tr>\n",
              "    <tr>\n",
              "      <th>2</th>\n",
              "      <td>2006-12-05</td>\n",
              "      <td>HELLO WORLD</td>\n",
              "      <td>0.0000</td>\n",
              "    </tr>\n",
              "    <tr>\n",
              "      <th>3</th>\n",
              "      <td>2006-12-06</td>\n",
              "      <td>Honoring R.W. Apple in Words and Food : About ...</td>\n",
              "      <td>0.6858</td>\n",
              "    </tr>\n",
              "    <tr>\n",
              "      <th>4</th>\n",
              "      <td>2006-12-07</td>\n",
              "      <td>Homebuilders, and Worries Over Jobs, Lead a De...</td>\n",
              "      <td>-0.6712</td>\n",
              "    </tr>\n",
              "  </tbody>\n",
              "</table>\n",
              "</div>"
            ],
            "text/plain": [
              "        date                                               news  polarity\n",
              "0 2006-12-01  WHAT'S ON TONIGHT : 8 P.M. (TLC) ASHLEY JUDD A...    0.7707\n",
              "1 2006-12-04  More on Housing Prices : The broadest governme...    0.8720\n",
              "2 2006-12-05                                        HELLO WORLD    0.0000\n",
              "3 2006-12-06  Honoring R.W. Apple in Words and Food : About ...    0.6858\n",
              "4 2006-12-07  Homebuilders, and Worries Over Jobs, Lead a De...   -0.6712"
            ]
          },
          "metadata": {
            "tags": []
          },
          "execution_count": 5
        }
      ]
    },
    {
      "cell_type": "code",
      "metadata": {
        "id": "sbf_1fFKeh86",
        "colab_type": "code",
        "colab": {
          "base_uri": "https://localhost:8080/",
          "height": 54
        },
        "outputId": "94e7e180-b32b-43e0-dafe-cb714ffd0639"
      },
      "source": [
        "news['news'][6]"
      ],
      "execution_count": 6,
      "outputs": [
        {
          "output_type": "execute_result",
          "data": {
            "text/plain": [
              "\"Sales of iPods and iTunes Not Much in Sync : The numbers suggest that iPods are not driving iTunes sales as much as early supporters may have expected.Name That Source : Decades on, a Vietnam War-era mystery has been revealed.In City’s Trans Fat Ban, a Challenge Fit for a Chef : Many in the restaurant industry say they fear that they will not be able to replicate dishes that now exceed the limit on trans fats.After Nasdaq Chief's Irish Bash, a Long Hangover : Even as the Nasdaq Stock Market battles to acquire a recalcitrant London Stock Exchange, Nasdaq's chief executive is in a trans-Atlantic feud of his own over a week of medieval revelry in Ireland. According to the New York Daily News, Robert Greif...Lights! Camera! Advertising! : Squeezing Money From the Music : Major labels have begun demanding a cut of concert earnings or T-shirt, ring tone and merchandise revenue from new artists seeking record contracts. \""
            ]
          },
          "metadata": {
            "tags": []
          },
          "execution_count": 6
        }
      ]
    },
    {
      "cell_type": "markdown",
      "metadata": {
        "id": "eM7pzPNgc77x",
        "colab_type": "text"
      },
      "source": [
        "Remove stopwords and punctuations"
      ]
    },
    {
      "cell_type": "code",
      "metadata": {
        "id": "aGnmxZNkj6U6",
        "colab_type": "code",
        "outputId": "a960bb6c-5488-4431-a5f4-b0874f2b84ce",
        "colab": {
          "base_uri": "https://localhost:8080/",
          "height": 204
        }
      },
      "source": [
        "\n",
        "stopwords_list = set(stopwords.words('english'))\n",
        "sentences = news['news']\n",
        "\n",
        "stop_removed = []\n",
        "punc_removed = []\n",
        "        \n",
        "for data in sentences:\n",
        "  words = word_tokenize(data)\n",
        "  filtered = []\n",
        "  \n",
        "  filtered.append([w if w not in stopwords_list else '' for w in words])\n",
        "  stop_removed.append(filtered)\n",
        "  \n",
        "\n",
        "punc_removed.extend([str(row).lower().translate(str.maketrans('', '', string.punctuation)) for row in stop_removed])\n",
        "news['news_cleaned'] = punc_removed\n",
        "news.head()"
      ],
      "execution_count": 7,
      "outputs": [
        {
          "output_type": "execute_result",
          "data": {
            "text/html": [
              "<div>\n",
              "<style scoped>\n",
              "    .dataframe tbody tr th:only-of-type {\n",
              "        vertical-align: middle;\n",
              "    }\n",
              "\n",
              "    .dataframe tbody tr th {\n",
              "        vertical-align: top;\n",
              "    }\n",
              "\n",
              "    .dataframe thead th {\n",
              "        text-align: right;\n",
              "    }\n",
              "</style>\n",
              "<table border=\"1\" class=\"dataframe\">\n",
              "  <thead>\n",
              "    <tr style=\"text-align: right;\">\n",
              "      <th></th>\n",
              "      <th>date</th>\n",
              "      <th>news</th>\n",
              "      <th>polarity</th>\n",
              "      <th>news_cleaned</th>\n",
              "    </tr>\n",
              "  </thead>\n",
              "  <tbody>\n",
              "    <tr>\n",
              "      <th>0</th>\n",
              "      <td>2006-12-01</td>\n",
              "      <td>WHAT'S ON TONIGHT : 8 P.M. (TLC) ASHLEY JUDD A...</td>\n",
              "      <td>0.7707</td>\n",
              "      <td>what s on tonight  8 pm  tlc  ashley judd and ...</td>\n",
              "    </tr>\n",
              "    <tr>\n",
              "      <th>1</th>\n",
              "      <td>2006-12-04</td>\n",
              "      <td>More on Housing Prices : The broadest governme...</td>\n",
              "      <td>0.8720</td>\n",
              "      <td>more  housing prices  the broadest government ...</td>\n",
              "    </tr>\n",
              "    <tr>\n",
              "      <th>2</th>\n",
              "      <td>2006-12-05</td>\n",
              "      <td>HELLO WORLD</td>\n",
              "      <td>0.0000</td>\n",
              "      <td>hello world</td>\n",
              "    </tr>\n",
              "    <tr>\n",
              "      <th>3</th>\n",
              "      <td>2006-12-06</td>\n",
              "      <td>Honoring R.W. Apple in Words and Food : About ...</td>\n",
              "      <td>0.6858</td>\n",
              "      <td>honoring rw  apple  words  food  about 1000  r...</td>\n",
              "    </tr>\n",
              "    <tr>\n",
              "      <th>4</th>\n",
              "      <td>2006-12-07</td>\n",
              "      <td>Homebuilders, and Worries Over Jobs, Lead a De...</td>\n",
              "      <td>-0.6712</td>\n",
              "      <td>homebuilders   worries over jobs  lead  declin...</td>\n",
              "    </tr>\n",
              "  </tbody>\n",
              "</table>\n",
              "</div>"
            ],
            "text/plain": [
              "        date  ...                                       news_cleaned\n",
              "0 2006-12-01  ...  what s on tonight  8 pm  tlc  ashley judd and ...\n",
              "1 2006-12-04  ...  more  housing prices  the broadest government ...\n",
              "2 2006-12-05  ...                                        hello world\n",
              "3 2006-12-06  ...  honoring rw  apple  words  food  about 1000  r...\n",
              "4 2006-12-07  ...  homebuilders   worries over jobs  lead  declin...\n",
              "\n",
              "[5 rows x 4 columns]"
            ]
          },
          "metadata": {
            "tags": []
          },
          "execution_count": 7
        }
      ]
    },
    {
      "cell_type": "code",
      "metadata": {
        "id": "C6Js1Y2oS6ns",
        "colab_type": "code",
        "outputId": "fa00907c-e94a-4750-e32b-5d342a616a5d",
        "colab": {
          "base_uri": "https://localhost:8080/",
          "height": 68
        }
      },
      "source": [
        "sentences = punc_removed\n",
        "\n",
        "print('max sequence length: ', max(len(s) for s in sentences))\n",
        "print('min sequence length: ', min(len(s) for s in sentences))\n",
        "\n",
        "s = sorted(len(s) for s in sentences)\n",
        "print('median sequence length: ', s[len(s)//2])"
      ],
      "execution_count": 8,
      "outputs": [
        {
          "output_type": "stream",
          "text": [
            "max sequence length:  4089\n",
            "min sequence length:  11\n",
            "median sequence length:  1439\n"
          ],
          "name": "stdout"
        }
      ]
    },
    {
      "cell_type": "code",
      "metadata": {
        "id": "6kXdqC2zgUJM",
        "colab_type": "code",
        "colab": {}
      },
      "source": [
        "MAX_SEQUENCE_LENGTH = max(len(s) for s in sentences)\n",
        "MAX_VOCAB_SIZE = 40000\n",
        "EMBEDDING_DIM = 200"
      ],
      "execution_count": 0,
      "outputs": []
    },
    {
      "cell_type": "markdown",
      "metadata": {
        "id": "k9Bn-QvedH8q",
        "colab_type": "text"
      },
      "source": [
        "Loading Glove word vectors"
      ]
    },
    {
      "cell_type": "code",
      "metadata": {
        "id": "gaJxRr2mwq0x",
        "colab_type": "code",
        "outputId": "ade211c3-2c93-4362-eee2-709a8b2e014b",
        "colab": {
          "base_uri": "https://localhost:8080/",
          "height": 51
        }
      },
      "source": [
        "word2vec = {}\n",
        "\n",
        "with open(os.path.join ('glove.6B.%sd.txt' % EMBEDDING_DIM)) as f:\n",
        "  \n",
        "  for line in f:\n",
        "    values = line.split()\n",
        "    word = values[0]\n",
        "    vec = np.array(values[1:], dtype='float32')\n",
        "    word2vec[word] = vec\n",
        "    \n",
        "print('Found %s word vectors.' % len(word2vec))"
      ],
      "execution_count": 10,
      "outputs": [
        {
          "output_type": "stream",
          "text": [
            "loading word vectors..\n",
            "Found 400000 word vectors.\n"
          ],
          "name": "stdout"
        }
      ]
    },
    {
      "cell_type": "code",
      "metadata": {
        "id": "Saio2abegvtm",
        "colab_type": "code",
        "colab": {}
      },
      "source": [
        "#tokenisation\n",
        "\n",
        "tokenizer = Tokenizer(num_words = MAX_VOCAB_SIZE)\n",
        "tokenizer.fit_on_texts(sentences)\n",
        "sequences = tokenizer.texts_to_sequences(sentences)"
      ],
      "execution_count": 0,
      "outputs": []
    },
    {
      "cell_type": "code",
      "metadata": {
        "id": "sD7CSlMKg8AK",
        "colab_type": "code",
        "outputId": "b981fec0-34f2-4ecd-bade-0570e3ad1b54",
        "colab": {
          "base_uri": "https://localhost:8080/",
          "height": 34
        }
      },
      "source": [
        "word2idx = tokenizer.word_index\n",
        "print('found %d unique tokens' %len(word2idx))"
      ],
      "execution_count": 12,
      "outputs": [
        {
          "output_type": "stream",
          "text": [
            "found 43101 unique tokens\n"
          ],
          "name": "stdout"
        }
      ]
    },
    {
      "cell_type": "code",
      "metadata": {
        "id": "BYxSfaY_g_pa",
        "colab_type": "code",
        "outputId": "f71b40de-7692-4777-b91e-c60b30e45cdb",
        "colab": {
          "base_uri": "https://localhost:8080/",
          "height": 34
        }
      },
      "source": [
        "#padding the sequences\n",
        "\n",
        "data = pad_sequences(sequences, maxlen=MAX_SEQUENCE_LENGTH)\n",
        "print('shape of the tensor: ', data.shape)"
      ],
      "execution_count": 13,
      "outputs": [
        {
          "output_type": "stream",
          "text": [
            "shape of the tensor:  (2517, 4089)\n"
          ],
          "name": "stdout"
        }
      ]
    },
    {
      "cell_type": "markdown",
      "metadata": {
        "id": "TNBX0RIQdRwL",
        "colab_type": "text"
      },
      "source": [
        "Filling pretrained embeddings"
      ]
    },
    {
      "cell_type": "code",
      "metadata": {
        "id": "syCkkCiiwJi8",
        "colab_type": "code",
        "outputId": "9ecd2c21-5380-405f-b097-b0e0d5b4ad68",
        "colab": {
          "base_uri": "https://localhost:8080/",
          "height": 34
        }
      },
      "source": [
        "num_words = min(MAX_VOCAB_SIZE, len(word2idx)+1)\n",
        "embedding_matrix = np.zeros((num_words, EMBEDDING_DIM))\n",
        "\n",
        "for word, i in word2idx.items():\n",
        "  if i < MAX_VOCAB_SIZE:\n",
        "    embedding_vector = word2vec.get(word)\n",
        "    if embedding_vector is not None:\n",
        "      embedding_matrix[i] = embedding_vector"
      ],
      "execution_count": 14,
      "outputs": [
        {
          "output_type": "stream",
          "text": [
            "filling pretrained embeddings\n"
          ],
          "name": "stdout"
        }
      ]
    },
    {
      "cell_type": "code",
      "metadata": {
        "id": "kmF-6EzFtpbA",
        "colab_type": "code",
        "outputId": "9a7cb197-4939-4844-e130-d77406930bca",
        "colab": {
          "base_uri": "https://localhost:8080/",
          "height": 34
        }
      },
      "source": [
        "embedding_matrix.shape"
      ],
      "execution_count": 15,
      "outputs": [
        {
          "output_type": "execute_result",
          "data": {
            "text/plain": [
              "(40000, 200)"
            ]
          },
          "metadata": {
            "tags": []
          },
          "execution_count": 15
        }
      ]
    },
    {
      "cell_type": "code",
      "metadata": {
        "id": "QF3M9XqTmqHP",
        "colab_type": "code",
        "outputId": "bd6b235b-0d32-4f46-f805-f9a29e956632",
        "colab": {
          "base_uri": "https://localhost:8080/",
          "height": 238
        }
      },
      "source": [
        "embedding_matrix"
      ],
      "execution_count": 16,
      "outputs": [
        {
          "output_type": "execute_result",
          "data": {
            "text/plain": [
              "array([[ 0.        ,  0.        ,  0.        , ...,  0.        ,\n",
              "         0.        ,  0.        ],\n",
              "       [ 0.21752   , -0.11792   , -0.088778  , ...,  0.27641001,\n",
              "         0.14048   ,  0.99224001],\n",
              "       [-0.11359   ,  0.20144001, -0.47073999, ..., -0.42846   ,\n",
              "         0.37869   , -0.52864999],\n",
              "       ...,\n",
              "       [ 0.        ,  0.        ,  0.        , ...,  0.        ,\n",
              "         0.        ,  0.        ],\n",
              "       [ 0.        ,  0.        ,  0.        , ...,  0.        ,\n",
              "         0.        ,  0.        ],\n",
              "       [ 0.        ,  0.        ,  0.        , ...,  0.        ,\n",
              "         0.        ,  0.        ]])"
            ]
          },
          "metadata": {
            "tags": []
          },
          "execution_count": 16
        }
      ]
    },
    {
      "cell_type": "code",
      "metadata": {
        "id": "IMXvd21Sihiy",
        "colab_type": "code",
        "outputId": "c9dec0b9-205e-4def-f843-66ea951f4144",
        "colab": {
          "base_uri": "https://localhost:8080/",
          "height": 204
        }
      },
      "source": [
        "news_vec = []\n",
        "news_vec.extend([data[x] for x in range(len(data))])\n",
        "\n",
        "news['news_vector'] = news_vec\n",
        "\n",
        "news.head()"
      ],
      "execution_count": 17,
      "outputs": [
        {
          "output_type": "execute_result",
          "data": {
            "text/html": [
              "<div>\n",
              "<style scoped>\n",
              "    .dataframe tbody tr th:only-of-type {\n",
              "        vertical-align: middle;\n",
              "    }\n",
              "\n",
              "    .dataframe tbody tr th {\n",
              "        vertical-align: top;\n",
              "    }\n",
              "\n",
              "    .dataframe thead th {\n",
              "        text-align: right;\n",
              "    }\n",
              "</style>\n",
              "<table border=\"1\" class=\"dataframe\">\n",
              "  <thead>\n",
              "    <tr style=\"text-align: right;\">\n",
              "      <th></th>\n",
              "      <th>date</th>\n",
              "      <th>news</th>\n",
              "      <th>polarity</th>\n",
              "      <th>news_cleaned</th>\n",
              "      <th>news_vector</th>\n",
              "    </tr>\n",
              "  </thead>\n",
              "  <tbody>\n",
              "    <tr>\n",
              "      <th>0</th>\n",
              "      <td>2006-12-01</td>\n",
              "      <td>WHAT'S ON TONIGHT : 8 P.M. (TLC) ASHLEY JUDD A...</td>\n",
              "      <td>0.7707</td>\n",
              "      <td>what s on tonight  8 pm  tlc  ashley judd and ...</td>\n",
              "      <td>[0, 0, 0, 0, 0, 0, 0, 0, 0, 0, 0, 0, 0, 0, 0, ...</td>\n",
              "    </tr>\n",
              "    <tr>\n",
              "      <th>1</th>\n",
              "      <td>2006-12-04</td>\n",
              "      <td>More on Housing Prices : The broadest governme...</td>\n",
              "      <td>0.8720</td>\n",
              "      <td>more  housing prices  the broadest government ...</td>\n",
              "      <td>[0, 0, 0, 0, 0, 0, 0, 0, 0, 0, 0, 0, 0, 0, 0, ...</td>\n",
              "    </tr>\n",
              "    <tr>\n",
              "      <th>2</th>\n",
              "      <td>2006-12-05</td>\n",
              "      <td>HELLO WORLD</td>\n",
              "      <td>0.0000</td>\n",
              "      <td>hello world</td>\n",
              "      <td>[0, 0, 0, 0, 0, 0, 0, 0, 0, 0, 0, 0, 0, 0, 0, ...</td>\n",
              "    </tr>\n",
              "    <tr>\n",
              "      <th>3</th>\n",
              "      <td>2006-12-06</td>\n",
              "      <td>Honoring R.W. Apple in Words and Food : About ...</td>\n",
              "      <td>0.6858</td>\n",
              "      <td>honoring rw  apple  words  food  about 1000  r...</td>\n",
              "      <td>[0, 0, 0, 0, 0, 0, 0, 0, 0, 0, 0, 0, 0, 0, 0, ...</td>\n",
              "    </tr>\n",
              "    <tr>\n",
              "      <th>4</th>\n",
              "      <td>2006-12-07</td>\n",
              "      <td>Homebuilders, and Worries Over Jobs, Lead a De...</td>\n",
              "      <td>-0.6712</td>\n",
              "      <td>homebuilders   worries over jobs  lead  declin...</td>\n",
              "      <td>[0, 0, 0, 0, 0, 0, 0, 0, 0, 0, 0, 0, 0, 0, 0, ...</td>\n",
              "    </tr>\n",
              "  </tbody>\n",
              "</table>\n",
              "</div>"
            ],
            "text/plain": [
              "        date  ...                                        news_vector\n",
              "0 2006-12-01  ...  [0, 0, 0, 0, 0, 0, 0, 0, 0, 0, 0, 0, 0, 0, 0, ...\n",
              "1 2006-12-04  ...  [0, 0, 0, 0, 0, 0, 0, 0, 0, 0, 0, 0, 0, 0, 0, ...\n",
              "2 2006-12-05  ...  [0, 0, 0, 0, 0, 0, 0, 0, 0, 0, 0, 0, 0, 0, 0, ...\n",
              "3 2006-12-06  ...  [0, 0, 0, 0, 0, 0, 0, 0, 0, 0, 0, 0, 0, 0, 0, ...\n",
              "4 2006-12-07  ...  [0, 0, 0, 0, 0, 0, 0, 0, 0, 0, 0, 0, 0, 0, 0, ...\n",
              "\n",
              "[5 rows x 5 columns]"
            ]
          },
          "metadata": {
            "tags": []
          },
          "execution_count": 17
        }
      ]
    },
    {
      "cell_type": "code",
      "metadata": {
        "id": "rROa6qSfk6jr",
        "colab_type": "code",
        "colab": {}
      },
      "source": [
        "news_data = news[['date', 'news_cleaned', 'polarity']]\n",
        "\n",
        "x = np.array(news_data)\n",
        "y = np.array(news_data.iloc[10:2512,2:]).ravel()"
      ],
      "execution_count": 0,
      "outputs": []
    },
    {
      "cell_type": "code",
      "metadata": {
        "id": "cDEuXE84P94_",
        "colab_type": "code",
        "colab": {
          "base_uri": "https://localhost:8080/",
          "height": 34
        },
        "outputId": "b05df00e-25b4-455a-d55b-1a1d9694712b"
      },
      "source": [
        "y"
      ],
      "execution_count": 22,
      "outputs": [
        {
          "output_type": "execute_result",
          "data": {
            "text/plain": [
              "array([-0.5228,  0.7059, -0.6705, ...,  0.7932, -0.6908, -0.8885])"
            ]
          },
          "metadata": {
            "tags": []
          },
          "execution_count": 22
        }
      ]
    },
    {
      "cell_type": "code",
      "metadata": {
        "id": "Xl2tEbaak2wi",
        "colab_type": "code",
        "outputId": "b547d063-72d8-4792-d154-049384bddf84",
        "colab": {
          "base_uri": "https://localhost:8080/",
          "height": 34
        }
      },
      "source": [
        "data = data[10:2512,]\n",
        "data.shape"
      ],
      "execution_count": 19,
      "outputs": [
        {
          "output_type": "execute_result",
          "data": {
            "text/plain": [
              "(2502, 4089)"
            ]
          },
          "metadata": {
            "tags": []
          },
          "execution_count": 19
        }
      ]
    },
    {
      "cell_type": "code",
      "metadata": {
        "id": "X3G-zf5ydoCM",
        "colab_type": "code",
        "colab": {}
      },
      "source": [
        "#saving all the processed data for future use, as numpy arrays\n",
        "\n",
        "np.save('news_vector_data', data)\n",
        "\n",
        "np.save('news_data', x)\n",
        "np.save('news_sentiment', y)\n",
        "np.save('embedding_matrix', embedding_matrix)"
      ],
      "execution_count": 0,
      "outputs": []
    }
  ]
}