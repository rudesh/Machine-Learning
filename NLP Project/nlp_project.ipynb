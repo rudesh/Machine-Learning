{
  "nbformat": 4,
  "nbformat_minor": 0,
  "metadata": {
    "colab": {
      "name": "nlp_project.ipynb",
      "version": "0.3.2",
      "provenance": [],
      "collapsed_sections": []
    },
    "kernelspec": {
      "name": "python3",
      "display_name": "Python 3"
    },
    "accelerator": "GPU"
  },
  "cells": [
    {
      "cell_type": "code",
      "metadata": {
        "id": "krlX7HeyO_xw",
        "colab_type": "code",
        "outputId": "dd580493-0f6e-4c7d-9761-1ffefaf8ab2a",
        "colab": {
          "base_uri": "https://localhost:8080/",
          "height": 34
        }
      },
      "source": [
        "from google.colab import drive\n",
        "drive.mount('/content/gdrive')\n",
        "%cd /content/gdrive/My Drive/Colab Notebooks/NLP/nlp project"
      ],
      "execution_count": 1,
      "outputs": [
        {
          "output_type": "stream",
          "text": [
            "/content/gdrive/My Drive/Colab Notebooks/NLP/nlp project\n"
          ],
          "name": "stdout"
        }
      ]
    },
    {
      "cell_type": "code",
      "metadata": {
        "id": "4s3CWIyfPgsj",
        "colab_type": "code",
        "colab": {
          "base_uri": "https://localhost:8080/",
          "height": 34
        },
        "outputId": "0774aa38-8ceb-4d51-c3c6-574b16f193dc"
      },
      "source": [
        "import pandas as pd\n",
        "import numpy as np\n",
        "import os\n",
        "import string\n",
        "\n",
        "import matplotlib.pyplot as plt\n",
        "plt.style.use('seaborn')\n",
        "\n",
        "import keras\n",
        "from keras.models import Model\n",
        "from keras.optimizers import Adam\n",
        "from keras.preprocessing.text import Tokenizer\n",
        "from keras.preprocessing.sequence import pad_sequences\n",
        "from keras.layers import Dense, Embedding, Input, Bidirectional, GlobalMaxPool1D, Concatenate, LSTM\n",
        "from keras.callbacks import ModelCheckpoint, EarlyStopping\n",
        "\n",
        "from sklearn.model_selection import train_test_split\n",
        "\n",
        "import keras.backend as K\n",
        "if len(K.tensorflow_backend._get_available_gpus()) > 0:\n",
        "  from keras.layers import CuDNNLSTM as LSTM\n",
        "  from keras.layers import CuDNNGRU as GRU"
      ],
      "execution_count": 2,
      "outputs": [
        {
          "output_type": "stream",
          "text": [
            "Using TensorFlow backend.\n"
          ],
          "name": "stderr"
        }
      ]
    },
    {
      "cell_type": "code",
      "metadata": {
        "id": "HlrOP2l3x5Xo",
        "colab_type": "code",
        "outputId": "49a0987d-7b28-4033-b451-258061af4dec",
        "colab": {
          "base_uri": "https://localhost:8080/",
          "height": 156
        }
      },
      "source": [
        "import nltk\n",
        "nltk.download('stopwords')\n",
        "nltk.download('punkt')\n",
        "nltk.download('vader_lexicon')\n",
        "\n",
        "from nltk.tokenize import sent_tokenize, word_tokenize\n",
        "from nltk.corpus import stopwords\n",
        "from nltk.sentiment.vader import SentimentIntensityAnalyzer\n",
        "\n",
        "import spacy\n",
        "from spacy import displacy"
      ],
      "execution_count": 3,
      "outputs": [
        {
          "output_type": "stream",
          "text": [
            "[nltk_data] Downloading package stopwords to /root/nltk_data...\n",
            "[nltk_data]   Unzipping corpora/stopwords.zip.\n",
            "[nltk_data] Downloading package punkt to /root/nltk_data...\n",
            "[nltk_data]   Unzipping tokenizers/punkt.zip.\n",
            "[nltk_data] Downloading package vader_lexicon to /root/nltk_data...\n"
          ],
          "name": "stdout"
        },
        {
          "output_type": "stream",
          "text": [
            "/usr/local/lib/python3.6/dist-packages/nltk/twitter/__init__.py:20: UserWarning: The twython library has not been installed. Some functionality from the twitter package will not be available.\n",
            "  warnings.warn(\"The twython library has not been installed. \"\n"
          ],
          "name": "stderr"
        }
      ]
    },
    {
      "cell_type": "markdown",
      "metadata": {
        "id": "yMDKwVJncZX0",
        "colab_type": "text"
      },
      "source": [
        "Loading news dataset,"
      ]
    },
    {
      "cell_type": "code",
      "metadata": {
        "id": "nBpZtRJ7PEnC",
        "colab_type": "code",
        "outputId": "efa949a9-cdd3-4a0c-81a4-48476b3ca00d",
        "colab": {
          "base_uri": "https://localhost:8080/",
          "height": 204
        }
      },
      "source": [
        "news = pd.read_csv('apple_news.csv')\n",
        "\n",
        "#replace NAN with 'Hello World'\n",
        "news = news.replace(np.nan, 'HELLO WORLD', regex=True)\n",
        "\n",
        "#convert to datetime\n",
        "news['date'] = pd.to_datetime(news['date'])\n",
        "news.head()"
      ],
      "execution_count": 4,
      "outputs": [
        {
          "output_type": "execute_result",
          "data": {
            "text/html": [
              "<div>\n",
              "<style scoped>\n",
              "    .dataframe tbody tr th:only-of-type {\n",
              "        vertical-align: middle;\n",
              "    }\n",
              "\n",
              "    .dataframe tbody tr th {\n",
              "        vertical-align: top;\n",
              "    }\n",
              "\n",
              "    .dataframe thead th {\n",
              "        text-align: right;\n",
              "    }\n",
              "</style>\n",
              "<table border=\"1\" class=\"dataframe\">\n",
              "  <thead>\n",
              "    <tr style=\"text-align: right;\">\n",
              "      <th></th>\n",
              "      <th>date</th>\n",
              "      <th>news</th>\n",
              "    </tr>\n",
              "  </thead>\n",
              "  <tbody>\n",
              "    <tr>\n",
              "      <th>0</th>\n",
              "      <td>2006-12-01</td>\n",
              "      <td>WHAT'S ON TONIGHT : 8 P.M. (TLC) ASHLEY JUDD A...</td>\n",
              "    </tr>\n",
              "    <tr>\n",
              "      <th>1</th>\n",
              "      <td>2006-12-04</td>\n",
              "      <td>More on Housing Prices : The broadest governme...</td>\n",
              "    </tr>\n",
              "    <tr>\n",
              "      <th>2</th>\n",
              "      <td>2006-12-05</td>\n",
              "      <td>HELLO WORLD</td>\n",
              "    </tr>\n",
              "    <tr>\n",
              "      <th>3</th>\n",
              "      <td>2006-12-06</td>\n",
              "      <td>Honoring R.W. Apple in Words and Food : About ...</td>\n",
              "    </tr>\n",
              "    <tr>\n",
              "      <th>4</th>\n",
              "      <td>2006-12-07</td>\n",
              "      <td>Homebuilders, and Worries Over Jobs, Lead a De...</td>\n",
              "    </tr>\n",
              "  </tbody>\n",
              "</table>\n",
              "</div>"
            ],
            "text/plain": [
              "        date                                               news\n",
              "0 2006-12-01  WHAT'S ON TONIGHT : 8 P.M. (TLC) ASHLEY JUDD A...\n",
              "1 2006-12-04  More on Housing Prices : The broadest governme...\n",
              "2 2006-12-05                                        HELLO WORLD\n",
              "3 2006-12-06  Honoring R.W. Apple in Words and Food : About ...\n",
              "4 2006-12-07  Homebuilders, and Worries Over Jobs, Lead a De..."
            ]
          },
          "metadata": {
            "tags": []
          },
          "execution_count": 4
        }
      ]
    },
    {
      "cell_type": "code",
      "metadata": {
        "id": "CCRgd4unwm0c",
        "colab_type": "code",
        "outputId": "18d69ca5-7807-4986-c899-3aba417eab54",
        "colab": {
          "base_uri": "https://localhost:8080/",
          "height": 212
        }
      },
      "source": [
        "nlp = spacy.load('en_core_web_sm')\n",
        "text = nlp(news['news'][6])\n",
        "displacy.render(text, style='ent', jupyter=True)"
      ],
      "execution_count": 5,
      "outputs": [
        {
          "output_type": "display_data",
          "data": {
            "text/html": [
              "<div class=\"entities\" style=\"line-height: 2.5\">Sales of \n",
              "<mark class=\"entity\" style=\"background: #bfeeb7; padding: 0.45em 0.6em; margin: 0 0.25em; line-height: 1; border-radius: 0.35em; box-decoration-break: clone; -webkit-box-decoration-break: clone\">\n",
              "    iPods\n",
              "    <span style=\"font-size: 0.8em; font-weight: bold; line-height: 1; border-radius: 0.35em; text-transform: uppercase; vertical-align: middle; margin-left: 0.5rem\">PRODUCT</span>\n",
              "</mark>\n",
              " and iTunes Not Much in \n",
              "<mark class=\"entity\" style=\"background: #7aecec; padding: 0.45em 0.6em; margin: 0 0.25em; line-height: 1; border-radius: 0.35em; box-decoration-break: clone; -webkit-box-decoration-break: clone\">\n",
              "    Sync\n",
              "    <span style=\"font-size: 0.8em; font-weight: bold; line-height: 1; border-radius: 0.35em; text-transform: uppercase; vertical-align: middle; margin-left: 0.5rem\">ORG</span>\n",
              "</mark>\n",
              " : The numbers suggest that \n",
              "<mark class=\"entity\" style=\"background: #bfeeb7; padding: 0.45em 0.6em; margin: 0 0.25em; line-height: 1; border-radius: 0.35em; box-decoration-break: clone; -webkit-box-decoration-break: clone\">\n",
              "    iPods\n",
              "    <span style=\"font-size: 0.8em; font-weight: bold; line-height: 1; border-radius: 0.35em; text-transform: uppercase; vertical-align: middle; margin-left: 0.5rem\">PRODUCT</span>\n",
              "</mark>\n",
              " are not driving \n",
              "<mark class=\"entity\" style=\"background: #bfeeb7; padding: 0.45em 0.6em; margin: 0 0.25em; line-height: 1; border-radius: 0.35em; box-decoration-break: clone; -webkit-box-decoration-break: clone\">\n",
              "    iTunes\n",
              "    <span style=\"font-size: 0.8em; font-weight: bold; line-height: 1; border-radius: 0.35em; text-transform: uppercase; vertical-align: middle; margin-left: 0.5rem\">PRODUCT</span>\n",
              "</mark>\n",
              " sales as much as early supporters may have expected.Name That Source : Decades on, \n",
              "<mark class=\"entity\" style=\"background: #ffeb80; padding: 0.45em 0.6em; margin: 0 0.25em; line-height: 1; border-radius: 0.35em; box-decoration-break: clone; -webkit-box-decoration-break: clone\">\n",
              "    a Vietnam War\n",
              "    <span style=\"font-size: 0.8em; font-weight: bold; line-height: 1; border-radius: 0.35em; text-transform: uppercase; vertical-align: middle; margin-left: 0.5rem\">EVENT</span>\n",
              "</mark>\n",
              "-era mystery has been revealed.In \n",
              "<mark class=\"entity\" style=\"background: #feca74; padding: 0.45em 0.6em; margin: 0 0.25em; line-height: 1; border-radius: 0.35em; box-decoration-break: clone; -webkit-box-decoration-break: clone\">\n",
              "    City\n",
              "    <span style=\"font-size: 0.8em; font-weight: bold; line-height: 1; border-radius: 0.35em; text-transform: uppercase; vertical-align: middle; margin-left: 0.5rem\">GPE</span>\n",
              "</mark>\n",
              "’s \n",
              "<mark class=\"entity\" style=\"background: #bfeeb7; padding: 0.45em 0.6em; margin: 0 0.25em; line-height: 1; border-radius: 0.35em; box-decoration-break: clone; -webkit-box-decoration-break: clone\">\n",
              "    Trans Fat Ban\n",
              "    <span style=\"font-size: 0.8em; font-weight: bold; line-height: 1; border-radius: 0.35em; text-transform: uppercase; vertical-align: middle; margin-left: 0.5rem\">PRODUCT</span>\n",
              "</mark>\n",
              ", a \n",
              "<mark class=\"entity\" style=\"background: #f0d0ff; padding: 0.45em 0.6em; margin: 0 0.25em; line-height: 1; border-radius: 0.35em; box-decoration-break: clone; -webkit-box-decoration-break: clone\">\n",
              "    Challenge Fit for a Chef\n",
              "    <span style=\"font-size: 0.8em; font-weight: bold; line-height: 1; border-radius: 0.35em; text-transform: uppercase; vertical-align: middle; margin-left: 0.5rem\">WORK_OF_ART</span>\n",
              "</mark>\n",
              " : Many in the restaurant industry say they fear that they will not be able to replicate dishes that now exceed the limit on trans fats.After \n",
              "<mark class=\"entity\" style=\"background: #7aecec; padding: 0.45em 0.6em; margin: 0 0.25em; line-height: 1; border-radius: 0.35em; box-decoration-break: clone; -webkit-box-decoration-break: clone\">\n",
              "    Nasdaq\n",
              "    <span style=\"font-size: 0.8em; font-weight: bold; line-height: 1; border-radius: 0.35em; text-transform: uppercase; vertical-align: middle; margin-left: 0.5rem\">ORG</span>\n",
              "</mark>\n",
              " Chief's \n",
              "<mark class=\"entity\" style=\"background: #aa9cfc; padding: 0.45em 0.6em; margin: 0 0.25em; line-height: 1; border-radius: 0.35em; box-decoration-break: clone; -webkit-box-decoration-break: clone\">\n",
              "    Irish Bash\n",
              "    <span style=\"font-size: 0.8em; font-weight: bold; line-height: 1; border-radius: 0.35em; text-transform: uppercase; vertical-align: middle; margin-left: 0.5rem\">PERSON</span>\n",
              "</mark>\n",
              ", a \n",
              "<mark class=\"entity\" style=\"background: #feca74; padding: 0.45em 0.6em; margin: 0 0.25em; line-height: 1; border-radius: 0.35em; box-decoration-break: clone; -webkit-box-decoration-break: clone\">\n",
              "    Long Hangover\n",
              "    <span style=\"font-size: 0.8em; font-weight: bold; line-height: 1; border-radius: 0.35em; text-transform: uppercase; vertical-align: middle; margin-left: 0.5rem\">GPE</span>\n",
              "</mark>\n",
              " : Even as the \n",
              "<mark class=\"entity\" style=\"background: #7aecec; padding: 0.45em 0.6em; margin: 0 0.25em; line-height: 1; border-radius: 0.35em; box-decoration-break: clone; -webkit-box-decoration-break: clone\">\n",
              "    Nasdaq Stock Market\n",
              "    <span style=\"font-size: 0.8em; font-weight: bold; line-height: 1; border-radius: 0.35em; text-transform: uppercase; vertical-align: middle; margin-left: 0.5rem\">ORG</span>\n",
              "</mark>\n",
              " battles to acquire a recalcitrant \n",
              "<mark class=\"entity\" style=\"background: #7aecec; padding: 0.45em 0.6em; margin: 0 0.25em; line-height: 1; border-radius: 0.35em; box-decoration-break: clone; -webkit-box-decoration-break: clone\">\n",
              "    London Stock Exchange\n",
              "    <span style=\"font-size: 0.8em; font-weight: bold; line-height: 1; border-radius: 0.35em; text-transform: uppercase; vertical-align: middle; margin-left: 0.5rem\">ORG</span>\n",
              "</mark>\n",
              ", \n",
              "<mark class=\"entity\" style=\"background: #7aecec; padding: 0.45em 0.6em; margin: 0 0.25em; line-height: 1; border-radius: 0.35em; box-decoration-break: clone; -webkit-box-decoration-break: clone\">\n",
              "    Nasdaq\n",
              "    <span style=\"font-size: 0.8em; font-weight: bold; line-height: 1; border-radius: 0.35em; text-transform: uppercase; vertical-align: middle; margin-left: 0.5rem\">ORG</span>\n",
              "</mark>\n",
              "'s chief executive is in a trans-\n",
              "<mark class=\"entity\" style=\"background: #ff9561; padding: 0.45em 0.6em; margin: 0 0.25em; line-height: 1; border-radius: 0.35em; box-decoration-break: clone; -webkit-box-decoration-break: clone\">\n",
              "    Atlantic\n",
              "    <span style=\"font-size: 0.8em; font-weight: bold; line-height: 1; border-radius: 0.35em; text-transform: uppercase; vertical-align: middle; margin-left: 0.5rem\">LOC</span>\n",
              "</mark>\n",
              " feud of his own over a week of medieval revelry in \n",
              "<mark class=\"entity\" style=\"background: #feca74; padding: 0.45em 0.6em; margin: 0 0.25em; line-height: 1; border-radius: 0.35em; box-decoration-break: clone; -webkit-box-decoration-break: clone\">\n",
              "    Ireland\n",
              "    <span style=\"font-size: 0.8em; font-weight: bold; line-height: 1; border-radius: 0.35em; text-transform: uppercase; vertical-align: middle; margin-left: 0.5rem\">GPE</span>\n",
              "</mark>\n",
              ". According to \n",
              "<mark class=\"entity\" style=\"background: #7aecec; padding: 0.45em 0.6em; margin: 0 0.25em; line-height: 1; border-radius: 0.35em; box-decoration-break: clone; -webkit-box-decoration-break: clone\">\n",
              "    the New York Daily News\n",
              "    <span style=\"font-size: 0.8em; font-weight: bold; line-height: 1; border-radius: 0.35em; text-transform: uppercase; vertical-align: middle; margin-left: 0.5rem\">ORG</span>\n",
              "</mark>\n",
              ", \n",
              "<mark class=\"entity\" style=\"background: #aa9cfc; padding: 0.45em 0.6em; margin: 0 0.25em; line-height: 1; border-radius: 0.35em; box-decoration-break: clone; -webkit-box-decoration-break: clone\">\n",
              "    Robert Greif\n",
              "    <span style=\"font-size: 0.8em; font-weight: bold; line-height: 1; border-radius: 0.35em; text-transform: uppercase; vertical-align: middle; margin-left: 0.5rem\">PERSON</span>\n",
              "</mark>\n",
              "...Lights! Camera! Advertising! : \n",
              "<mark class=\"entity\" style=\"background: #f0d0ff; padding: 0.45em 0.6em; margin: 0 0.25em; line-height: 1; border-radius: 0.35em; box-decoration-break: clone; -webkit-box-decoration-break: clone\">\n",
              "    Squeezing Money From the Music\n",
              "    <span style=\"font-size: 0.8em; font-weight: bold; line-height: 1; border-radius: 0.35em; text-transform: uppercase; vertical-align: middle; margin-left: 0.5rem\">WORK_OF_ART</span>\n",
              "</mark>\n",
              " : Major labels have begun demanding a cut of concert earnings or T-shirt, ring tone and merchandise revenue from new artists seeking record contracts. </div>"
            ],
            "text/plain": [
              "<IPython.core.display.HTML object>"
            ]
          },
          "metadata": {
            "tags": []
          }
        }
      ]
    },
    {
      "cell_type": "code",
      "metadata": {
        "id": "S4PmbYI_M599",
        "colab_type": "code",
        "outputId": "22df9305-d310-4c47-d0c1-98d09cb3e0e4",
        "colab": {
          "base_uri": "https://localhost:8080/",
          "height": 204
        }
      },
      "source": [
        "#nltk sentiment analyser\n",
        "sia = SentimentIntensityAnalyzer()\n",
        "\n",
        "#perform sentiment analysis\n",
        "sentiment = news['news'].apply(lambda news: sia.polarity_scores(news))\n",
        "\n",
        "#filter the compound values only\n",
        "news['polarity'] = [sentiment[r]['compound'] for r in range(len(sentiment))]\n",
        "news.head()"
      ],
      "execution_count": 6,
      "outputs": [
        {
          "output_type": "execute_result",
          "data": {
            "text/html": [
              "<div>\n",
              "<style scoped>\n",
              "    .dataframe tbody tr th:only-of-type {\n",
              "        vertical-align: middle;\n",
              "    }\n",
              "\n",
              "    .dataframe tbody tr th {\n",
              "        vertical-align: top;\n",
              "    }\n",
              "\n",
              "    .dataframe thead th {\n",
              "        text-align: right;\n",
              "    }\n",
              "</style>\n",
              "<table border=\"1\" class=\"dataframe\">\n",
              "  <thead>\n",
              "    <tr style=\"text-align: right;\">\n",
              "      <th></th>\n",
              "      <th>date</th>\n",
              "      <th>news</th>\n",
              "      <th>polarity</th>\n",
              "    </tr>\n",
              "  </thead>\n",
              "  <tbody>\n",
              "    <tr>\n",
              "      <th>0</th>\n",
              "      <td>2006-12-01</td>\n",
              "      <td>WHAT'S ON TONIGHT : 8 P.M. (TLC) ASHLEY JUDD A...</td>\n",
              "      <td>0.7707</td>\n",
              "    </tr>\n",
              "    <tr>\n",
              "      <th>1</th>\n",
              "      <td>2006-12-04</td>\n",
              "      <td>More on Housing Prices : The broadest governme...</td>\n",
              "      <td>0.8720</td>\n",
              "    </tr>\n",
              "    <tr>\n",
              "      <th>2</th>\n",
              "      <td>2006-12-05</td>\n",
              "      <td>HELLO WORLD</td>\n",
              "      <td>0.0000</td>\n",
              "    </tr>\n",
              "    <tr>\n",
              "      <th>3</th>\n",
              "      <td>2006-12-06</td>\n",
              "      <td>Honoring R.W. Apple in Words and Food : About ...</td>\n",
              "      <td>0.6858</td>\n",
              "    </tr>\n",
              "    <tr>\n",
              "      <th>4</th>\n",
              "      <td>2006-12-07</td>\n",
              "      <td>Homebuilders, and Worries Over Jobs, Lead a De...</td>\n",
              "      <td>-0.6712</td>\n",
              "    </tr>\n",
              "  </tbody>\n",
              "</table>\n",
              "</div>"
            ],
            "text/plain": [
              "        date                                               news  polarity\n",
              "0 2006-12-01  WHAT'S ON TONIGHT : 8 P.M. (TLC) ASHLEY JUDD A...    0.7707\n",
              "1 2006-12-04  More on Housing Prices : The broadest governme...    0.8720\n",
              "2 2006-12-05                                        HELLO WORLD    0.0000\n",
              "3 2006-12-06  Honoring R.W. Apple in Words and Food : About ...    0.6858\n",
              "4 2006-12-07  Homebuilders, and Worries Over Jobs, Lead a De...   -0.6712"
            ]
          },
          "metadata": {
            "tags": []
          },
          "execution_count": 6
        }
      ]
    },
    {
      "cell_type": "markdown",
      "metadata": {
        "id": "eM7pzPNgc77x",
        "colab_type": "text"
      },
      "source": [
        "Remove stopwords and punctuations"
      ]
    },
    {
      "cell_type": "code",
      "metadata": {
        "id": "aGnmxZNkj6U6",
        "colab_type": "code",
        "outputId": "3510b623-b16c-4015-cd5d-44130e0fa2a4",
        "colab": {
          "base_uri": "https://localhost:8080/",
          "height": 204
        }
      },
      "source": [
        "stopwords_list = set(stopwords.words('english'))\n",
        "sentences = news['news']\n",
        "\n",
        "stop_removed = []\n",
        "punc_removed = []\n",
        "        \n",
        "for data in sentences:\n",
        "  words = word_tokenize(data)\n",
        "  filtered = []\n",
        "  \n",
        "  filtered.append([w if w not in stopwords_list else '' for w in words])\n",
        "  stop_removed.append(filtered)\n",
        "  \n",
        "\n",
        "punc_removed.extend([str(row).lower().translate(str.maketrans('', '', string.punctuation)) for row in stop_removed])\n",
        "news['news_cleaned'] = punc_removed\n",
        "news.head()"
      ],
      "execution_count": 7,
      "outputs": [
        {
          "output_type": "execute_result",
          "data": {
            "text/html": [
              "<div>\n",
              "<style scoped>\n",
              "    .dataframe tbody tr th:only-of-type {\n",
              "        vertical-align: middle;\n",
              "    }\n",
              "\n",
              "    .dataframe tbody tr th {\n",
              "        vertical-align: top;\n",
              "    }\n",
              "\n",
              "    .dataframe thead th {\n",
              "        text-align: right;\n",
              "    }\n",
              "</style>\n",
              "<table border=\"1\" class=\"dataframe\">\n",
              "  <thead>\n",
              "    <tr style=\"text-align: right;\">\n",
              "      <th></th>\n",
              "      <th>date</th>\n",
              "      <th>news</th>\n",
              "      <th>polarity</th>\n",
              "      <th>news_cleaned</th>\n",
              "    </tr>\n",
              "  </thead>\n",
              "  <tbody>\n",
              "    <tr>\n",
              "      <th>0</th>\n",
              "      <td>2006-12-01</td>\n",
              "      <td>WHAT'S ON TONIGHT : 8 P.M. (TLC) ASHLEY JUDD A...</td>\n",
              "      <td>0.7707</td>\n",
              "      <td>what s on tonight  8 pm  tlc  ashley judd and ...</td>\n",
              "    </tr>\n",
              "    <tr>\n",
              "      <th>1</th>\n",
              "      <td>2006-12-04</td>\n",
              "      <td>More on Housing Prices : The broadest governme...</td>\n",
              "      <td>0.8720</td>\n",
              "      <td>more  housing prices  the broadest government ...</td>\n",
              "    </tr>\n",
              "    <tr>\n",
              "      <th>2</th>\n",
              "      <td>2006-12-05</td>\n",
              "      <td>HELLO WORLD</td>\n",
              "      <td>0.0000</td>\n",
              "      <td>hello world</td>\n",
              "    </tr>\n",
              "    <tr>\n",
              "      <th>3</th>\n",
              "      <td>2006-12-06</td>\n",
              "      <td>Honoring R.W. Apple in Words and Food : About ...</td>\n",
              "      <td>0.6858</td>\n",
              "      <td>honoring rw  apple  words  food  about 1000  r...</td>\n",
              "    </tr>\n",
              "    <tr>\n",
              "      <th>4</th>\n",
              "      <td>2006-12-07</td>\n",
              "      <td>Homebuilders, and Worries Over Jobs, Lead a De...</td>\n",
              "      <td>-0.6712</td>\n",
              "      <td>homebuilders   worries over jobs  lead  declin...</td>\n",
              "    </tr>\n",
              "  </tbody>\n",
              "</table>\n",
              "</div>"
            ],
            "text/plain": [
              "        date  ...                                       news_cleaned\n",
              "0 2006-12-01  ...  what s on tonight  8 pm  tlc  ashley judd and ...\n",
              "1 2006-12-04  ...  more  housing prices  the broadest government ...\n",
              "2 2006-12-05  ...                                        hello world\n",
              "3 2006-12-06  ...  honoring rw  apple  words  food  about 1000  r...\n",
              "4 2006-12-07  ...  homebuilders   worries over jobs  lead  declin...\n",
              "\n",
              "[5 rows x 4 columns]"
            ]
          },
          "metadata": {
            "tags": []
          },
          "execution_count": 7
        }
      ]
    },
    {
      "cell_type": "code",
      "metadata": {
        "id": "C6Js1Y2oS6ns",
        "colab_type": "code",
        "outputId": "f21183b9-6180-44f9-e8f0-20d24d0c136c",
        "colab": {
          "base_uri": "https://localhost:8080/",
          "height": 68
        }
      },
      "source": [
        "sentences = punc_removed\n",
        "\n",
        "print('max sequence length: ', max(len(s) for s in sentences))\n",
        "print('min sequence length: ', min(len(s) for s in sentences))\n",
        "\n",
        "s = sorted(len(s) for s in sentences)\n",
        "print('median sequence length: ', s[len(s)//2])"
      ],
      "execution_count": 8,
      "outputs": [
        {
          "output_type": "stream",
          "text": [
            "max sequence length:  4089\n",
            "min sequence length:  11\n",
            "median sequence length:  1439\n"
          ],
          "name": "stdout"
        }
      ]
    },
    {
      "cell_type": "code",
      "metadata": {
        "id": "6kXdqC2zgUJM",
        "colab_type": "code",
        "colab": {}
      },
      "source": [
        "MAX_SEQUENCE_LENGTH = max(len(s) for s in sentences)\n",
        "MAX_VOCAB_SIZE = 40000\n",
        "EMBEDDING_DIM = 200"
      ],
      "execution_count": 0,
      "outputs": []
    },
    {
      "cell_type": "markdown",
      "metadata": {
        "id": "k9Bn-QvedH8q",
        "colab_type": "text"
      },
      "source": [
        "Loading Glove word vectors"
      ]
    },
    {
      "cell_type": "code",
      "metadata": {
        "id": "gaJxRr2mwq0x",
        "colab_type": "code",
        "outputId": "8b4aeabe-7e9e-498f-d977-ee3039f3cfe5",
        "colab": {
          "base_uri": "https://localhost:8080/",
          "height": 34
        }
      },
      "source": [
        "word2vec = {}\n",
        "\n",
        "with open(os.path.join ('glove.6B.%sd.txt' % EMBEDDING_DIM)) as f:\n",
        "  \n",
        "  for line in f:\n",
        "    values = line.split()\n",
        "    word = values[0]\n",
        "    vec = np.array(values[1:], dtype='float32')\n",
        "    word2vec[word] = vec\n",
        "    \n",
        "print('Found %s word vectors.' % len(word2vec))"
      ],
      "execution_count": 10,
      "outputs": [
        {
          "output_type": "stream",
          "text": [
            "Found 400000 word vectors.\n"
          ],
          "name": "stdout"
        }
      ]
    },
    {
      "cell_type": "code",
      "metadata": {
        "id": "Saio2abegvtm",
        "colab_type": "code",
        "colab": {}
      },
      "source": [
        "#tokenisation\n",
        "\n",
        "tokenizer = Tokenizer(num_words = MAX_VOCAB_SIZE)\n",
        "tokenizer.fit_on_texts(sentences)\n",
        "sequences = tokenizer.texts_to_sequences(sentences)"
      ],
      "execution_count": 0,
      "outputs": []
    },
    {
      "cell_type": "code",
      "metadata": {
        "id": "sD7CSlMKg8AK",
        "colab_type": "code",
        "outputId": "e68e6a2d-bc2f-43a6-e191-a949085babf3",
        "colab": {
          "base_uri": "https://localhost:8080/",
          "height": 34
        }
      },
      "source": [
        "word2idx = tokenizer.word_index\n",
        "print('found %d unique tokens' %len(word2idx))"
      ],
      "execution_count": 12,
      "outputs": [
        {
          "output_type": "stream",
          "text": [
            "found 43101 unique tokens\n"
          ],
          "name": "stdout"
        }
      ]
    },
    {
      "cell_type": "code",
      "metadata": {
        "id": "BYxSfaY_g_pa",
        "colab_type": "code",
        "outputId": "0c339ad0-5ff4-48e9-a505-112423f77308",
        "colab": {
          "base_uri": "https://localhost:8080/",
          "height": 34
        }
      },
      "source": [
        "#padding the sequences\n",
        "\n",
        "news_vector_data = pad_sequences(sequences, maxlen=MAX_SEQUENCE_LENGTH)\n",
        "print('shape of the tensor: ', news_vector_data.shape)"
      ],
      "execution_count": 13,
      "outputs": [
        {
          "output_type": "stream",
          "text": [
            "shape of the tensor:  (2517, 4089)\n"
          ],
          "name": "stdout"
        }
      ]
    },
    {
      "cell_type": "markdown",
      "metadata": {
        "id": "TNBX0RIQdRwL",
        "colab_type": "text"
      },
      "source": [
        "Filling pretrained embeddings"
      ]
    },
    {
      "cell_type": "code",
      "metadata": {
        "id": "syCkkCiiwJi8",
        "colab_type": "code",
        "colab": {}
      },
      "source": [
        "num_words = min(MAX_VOCAB_SIZE, len(word2idx)+1)\n",
        "embedding_matrix = np.zeros((num_words, EMBEDDING_DIM))\n",
        "\n",
        "for word, i in word2idx.items():\n",
        "  if i < MAX_VOCAB_SIZE:\n",
        "    embedding_vector = word2vec.get(word)\n",
        "    if embedding_vector is not None:\n",
        "      embedding_matrix[i] = embedding_vector"
      ],
      "execution_count": 0,
      "outputs": []
    },
    {
      "cell_type": "code",
      "metadata": {
        "id": "kmF-6EzFtpbA",
        "colab_type": "code",
        "outputId": "9e66236a-a253-440d-d902-275840cd8f97",
        "colab": {
          "base_uri": "https://localhost:8080/",
          "height": 34
        }
      },
      "source": [
        "embedding_matrix.shape"
      ],
      "execution_count": 15,
      "outputs": [
        {
          "output_type": "execute_result",
          "data": {
            "text/plain": [
              "(40000, 200)"
            ]
          },
          "metadata": {
            "tags": []
          },
          "execution_count": 15
        }
      ]
    },
    {
      "cell_type": "code",
      "metadata": {
        "id": "QF3M9XqTmqHP",
        "colab_type": "code",
        "outputId": "c9b82910-f0da-458b-ac13-5385e71c0923",
        "colab": {
          "base_uri": "https://localhost:8080/",
          "height": 238
        }
      },
      "source": [
        "embedding_matrix"
      ],
      "execution_count": 16,
      "outputs": [
        {
          "output_type": "execute_result",
          "data": {
            "text/plain": [
              "array([[ 0.        ,  0.        ,  0.        , ...,  0.        ,\n",
              "         0.        ,  0.        ],\n",
              "       [ 0.21752   , -0.11792   , -0.088778  , ...,  0.27641001,\n",
              "         0.14048   ,  0.99224001],\n",
              "       [-0.11359   ,  0.20144001, -0.47073999, ..., -0.42846   ,\n",
              "         0.37869   , -0.52864999],\n",
              "       ...,\n",
              "       [ 0.        ,  0.        ,  0.        , ...,  0.        ,\n",
              "         0.        ,  0.        ],\n",
              "       [ 0.        ,  0.        ,  0.        , ...,  0.        ,\n",
              "         0.        ,  0.        ],\n",
              "       [ 0.        ,  0.        ,  0.        , ...,  0.        ,\n",
              "         0.        ,  0.        ]])"
            ]
          },
          "metadata": {
            "tags": []
          },
          "execution_count": 16
        }
      ]
    },
    {
      "cell_type": "code",
      "metadata": {
        "id": "IMXvd21Sihiy",
        "colab_type": "code",
        "outputId": "f15e24f6-77bf-4f40-f408-0527e0672bc1",
        "colab": {
          "base_uri": "https://localhost:8080/",
          "height": 204
        }
      },
      "source": [
        "news_vec = []\n",
        "news_vec.extend([news_vector_data[x] for x in range(len(news_vector_data))])\n",
        "\n",
        "news['news_vector'] = news_vec\n",
        "\n",
        "news.head()"
      ],
      "execution_count": 17,
      "outputs": [
        {
          "output_type": "execute_result",
          "data": {
            "text/html": [
              "<div>\n",
              "<style scoped>\n",
              "    .dataframe tbody tr th:only-of-type {\n",
              "        vertical-align: middle;\n",
              "    }\n",
              "\n",
              "    .dataframe tbody tr th {\n",
              "        vertical-align: top;\n",
              "    }\n",
              "\n",
              "    .dataframe thead th {\n",
              "        text-align: right;\n",
              "    }\n",
              "</style>\n",
              "<table border=\"1\" class=\"dataframe\">\n",
              "  <thead>\n",
              "    <tr style=\"text-align: right;\">\n",
              "      <th></th>\n",
              "      <th>date</th>\n",
              "      <th>news</th>\n",
              "      <th>polarity</th>\n",
              "      <th>news_cleaned</th>\n",
              "      <th>news_vector</th>\n",
              "    </tr>\n",
              "  </thead>\n",
              "  <tbody>\n",
              "    <tr>\n",
              "      <th>0</th>\n",
              "      <td>2006-12-01</td>\n",
              "      <td>WHAT'S ON TONIGHT : 8 P.M. (TLC) ASHLEY JUDD A...</td>\n",
              "      <td>0.7707</td>\n",
              "      <td>what s on tonight  8 pm  tlc  ashley judd and ...</td>\n",
              "      <td>[0, 0, 0, 0, 0, 0, 0, 0, 0, 0, 0, 0, 0, 0, 0, ...</td>\n",
              "    </tr>\n",
              "    <tr>\n",
              "      <th>1</th>\n",
              "      <td>2006-12-04</td>\n",
              "      <td>More on Housing Prices : The broadest governme...</td>\n",
              "      <td>0.8720</td>\n",
              "      <td>more  housing prices  the broadest government ...</td>\n",
              "      <td>[0, 0, 0, 0, 0, 0, 0, 0, 0, 0, 0, 0, 0, 0, 0, ...</td>\n",
              "    </tr>\n",
              "    <tr>\n",
              "      <th>2</th>\n",
              "      <td>2006-12-05</td>\n",
              "      <td>HELLO WORLD</td>\n",
              "      <td>0.0000</td>\n",
              "      <td>hello world</td>\n",
              "      <td>[0, 0, 0, 0, 0, 0, 0, 0, 0, 0, 0, 0, 0, 0, 0, ...</td>\n",
              "    </tr>\n",
              "    <tr>\n",
              "      <th>3</th>\n",
              "      <td>2006-12-06</td>\n",
              "      <td>Honoring R.W. Apple in Words and Food : About ...</td>\n",
              "      <td>0.6858</td>\n",
              "      <td>honoring rw  apple  words  food  about 1000  r...</td>\n",
              "      <td>[0, 0, 0, 0, 0, 0, 0, 0, 0, 0, 0, 0, 0, 0, 0, ...</td>\n",
              "    </tr>\n",
              "    <tr>\n",
              "      <th>4</th>\n",
              "      <td>2006-12-07</td>\n",
              "      <td>Homebuilders, and Worries Over Jobs, Lead a De...</td>\n",
              "      <td>-0.6712</td>\n",
              "      <td>homebuilders   worries over jobs  lead  declin...</td>\n",
              "      <td>[0, 0, 0, 0, 0, 0, 0, 0, 0, 0, 0, 0, 0, 0, 0, ...</td>\n",
              "    </tr>\n",
              "  </tbody>\n",
              "</table>\n",
              "</div>"
            ],
            "text/plain": [
              "        date  ...                                        news_vector\n",
              "0 2006-12-01  ...  [0, 0, 0, 0, 0, 0, 0, 0, 0, 0, 0, 0, 0, 0, 0, ...\n",
              "1 2006-12-04  ...  [0, 0, 0, 0, 0, 0, 0, 0, 0, 0, 0, 0, 0, 0, 0, ...\n",
              "2 2006-12-05  ...  [0, 0, 0, 0, 0, 0, 0, 0, 0, 0, 0, 0, 0, 0, 0, ...\n",
              "3 2006-12-06  ...  [0, 0, 0, 0, 0, 0, 0, 0, 0, 0, 0, 0, 0, 0, 0, ...\n",
              "4 2006-12-07  ...  [0, 0, 0, 0, 0, 0, 0, 0, 0, 0, 0, 0, 0, 0, 0, ...\n",
              "\n",
              "[5 rows x 5 columns]"
            ]
          },
          "metadata": {
            "tags": []
          },
          "execution_count": 17
        }
      ]
    },
    {
      "cell_type": "code",
      "metadata": {
        "id": "ZwG13Xifai5u",
        "colab_type": "code",
        "outputId": "d04fca51-5db4-43e4-a942-830595fd918a",
        "colab": {
          "base_uri": "https://localhost:8080/",
          "height": 204
        }
      },
      "source": [
        "market = pd.read_csv('apple_market.csv')\n",
        "market['date'] = pd.to_datetime(market['date'])\n",
        "market.head()"
      ],
      "execution_count": 18,
      "outputs": [
        {
          "output_type": "execute_result",
          "data": {
            "text/html": [
              "<div>\n",
              "<style scoped>\n",
              "    .dataframe tbody tr th:only-of-type {\n",
              "        vertical-align: middle;\n",
              "    }\n",
              "\n",
              "    .dataframe tbody tr th {\n",
              "        vertical-align: top;\n",
              "    }\n",
              "\n",
              "    .dataframe thead th {\n",
              "        text-align: right;\n",
              "    }\n",
              "</style>\n",
              "<table border=\"1\" class=\"dataframe\">\n",
              "  <thead>\n",
              "    <tr style=\"text-align: right;\">\n",
              "      <th></th>\n",
              "      <th>date</th>\n",
              "      <th>open</th>\n",
              "      <th>high</th>\n",
              "      <th>low</th>\n",
              "      <th>close</th>\n",
              "      <th>volume</th>\n",
              "    </tr>\n",
              "  </thead>\n",
              "  <tbody>\n",
              "    <tr>\n",
              "      <th>0</th>\n",
              "      <td>2006-12-01</td>\n",
              "      <td>13.114285</td>\n",
              "      <td>13.190000</td>\n",
              "      <td>12.871428</td>\n",
              "      <td>13.045714</td>\n",
              "      <td>198769900</td>\n",
              "    </tr>\n",
              "    <tr>\n",
              "      <th>1</th>\n",
              "      <td>2006-12-04</td>\n",
              "      <td>13.125714</td>\n",
              "      <td>13.150000</td>\n",
              "      <td>12.928572</td>\n",
              "      <td>13.017143</td>\n",
              "      <td>177384200</td>\n",
              "    </tr>\n",
              "    <tr>\n",
              "      <th>2</th>\n",
              "      <td>2006-12-05</td>\n",
              "      <td>13.092857</td>\n",
              "      <td>13.190000</td>\n",
              "      <td>12.981428</td>\n",
              "      <td>13.038571</td>\n",
              "      <td>165709600</td>\n",
              "    </tr>\n",
              "    <tr>\n",
              "      <th>3</th>\n",
              "      <td>2006-12-06</td>\n",
              "      <td>12.948571</td>\n",
              "      <td>13.055715</td>\n",
              "      <td>12.810000</td>\n",
              "      <td>12.832857</td>\n",
              "      <td>159546100</td>\n",
              "    </tr>\n",
              "    <tr>\n",
              "      <th>4</th>\n",
              "      <td>2006-12-07</td>\n",
              "      <td>12.861428</td>\n",
              "      <td>12.928572</td>\n",
              "      <td>12.414286</td>\n",
              "      <td>12.434286</td>\n",
              "      <td>251206900</td>\n",
              "    </tr>\n",
              "  </tbody>\n",
              "</table>\n",
              "</div>"
            ],
            "text/plain": [
              "        date       open       high        low      close     volume\n",
              "0 2006-12-01  13.114285  13.190000  12.871428  13.045714  198769900\n",
              "1 2006-12-04  13.125714  13.150000  12.928572  13.017143  177384200\n",
              "2 2006-12-05  13.092857  13.190000  12.981428  13.038571  165709600\n",
              "3 2006-12-06  12.948571  13.055715  12.810000  12.832857  159546100\n",
              "4 2006-12-07  12.861428  12.928572  12.414286  12.434286  251206900"
            ]
          },
          "metadata": {
            "tags": []
          },
          "execution_count": 18
        }
      ]
    },
    {
      "cell_type": "code",
      "metadata": {
        "id": "CVpwATI1ajUm",
        "colab_type": "code",
        "outputId": "1711939b-c1ce-47c7-a4aa-c143ef92643b",
        "colab": {
          "base_uri": "https://localhost:8080/",
          "height": 204
        }
      },
      "source": [
        "a = market['open']\n",
        "a = a[1:,]\n",
        "a = a.tolist()\n",
        "a.append(0)\n",
        "market['target'] = a\n",
        "\n",
        "market.head()"
      ],
      "execution_count": 19,
      "outputs": [
        {
          "output_type": "execute_result",
          "data": {
            "text/html": [
              "<div>\n",
              "<style scoped>\n",
              "    .dataframe tbody tr th:only-of-type {\n",
              "        vertical-align: middle;\n",
              "    }\n",
              "\n",
              "    .dataframe tbody tr th {\n",
              "        vertical-align: top;\n",
              "    }\n",
              "\n",
              "    .dataframe thead th {\n",
              "        text-align: right;\n",
              "    }\n",
              "</style>\n",
              "<table border=\"1\" class=\"dataframe\">\n",
              "  <thead>\n",
              "    <tr style=\"text-align: right;\">\n",
              "      <th></th>\n",
              "      <th>date</th>\n",
              "      <th>open</th>\n",
              "      <th>high</th>\n",
              "      <th>low</th>\n",
              "      <th>close</th>\n",
              "      <th>volume</th>\n",
              "      <th>target</th>\n",
              "    </tr>\n",
              "  </thead>\n",
              "  <tbody>\n",
              "    <tr>\n",
              "      <th>0</th>\n",
              "      <td>2006-12-01</td>\n",
              "      <td>13.114285</td>\n",
              "      <td>13.190000</td>\n",
              "      <td>12.871428</td>\n",
              "      <td>13.045714</td>\n",
              "      <td>198769900</td>\n",
              "      <td>13.125714</td>\n",
              "    </tr>\n",
              "    <tr>\n",
              "      <th>1</th>\n",
              "      <td>2006-12-04</td>\n",
              "      <td>13.125714</td>\n",
              "      <td>13.150000</td>\n",
              "      <td>12.928572</td>\n",
              "      <td>13.017143</td>\n",
              "      <td>177384200</td>\n",
              "      <td>13.092857</td>\n",
              "    </tr>\n",
              "    <tr>\n",
              "      <th>2</th>\n",
              "      <td>2006-12-05</td>\n",
              "      <td>13.092857</td>\n",
              "      <td>13.190000</td>\n",
              "      <td>12.981428</td>\n",
              "      <td>13.038571</td>\n",
              "      <td>165709600</td>\n",
              "      <td>12.948571</td>\n",
              "    </tr>\n",
              "    <tr>\n",
              "      <th>3</th>\n",
              "      <td>2006-12-06</td>\n",
              "      <td>12.948571</td>\n",
              "      <td>13.055715</td>\n",
              "      <td>12.810000</td>\n",
              "      <td>12.832857</td>\n",
              "      <td>159546100</td>\n",
              "      <td>12.861428</td>\n",
              "    </tr>\n",
              "    <tr>\n",
              "      <th>4</th>\n",
              "      <td>2006-12-07</td>\n",
              "      <td>12.861428</td>\n",
              "      <td>12.928572</td>\n",
              "      <td>12.414286</td>\n",
              "      <td>12.434286</td>\n",
              "      <td>251206900</td>\n",
              "      <td>12.461429</td>\n",
              "    </tr>\n",
              "  </tbody>\n",
              "</table>\n",
              "</div>"
            ],
            "text/plain": [
              "        date       open       high        low      close     volume     target\n",
              "0 2006-12-01  13.114285  13.190000  12.871428  13.045714  198769900  13.125714\n",
              "1 2006-12-04  13.125714  13.150000  12.928572  13.017143  177384200  13.092857\n",
              "2 2006-12-05  13.092857  13.190000  12.981428  13.038571  165709600  12.948571\n",
              "3 2006-12-06  12.948571  13.055715  12.810000  12.832857  159546100  12.861428\n",
              "4 2006-12-07  12.861428  12.928572  12.414286  12.434286  251206900  12.461429"
            ]
          },
          "metadata": {
            "tags": []
          },
          "execution_count": 19
        }
      ]
    },
    {
      "cell_type": "code",
      "metadata": {
        "id": "x61Fa3XQavNR",
        "colab_type": "code",
        "outputId": "5bbd0463-9395-467a-d0e7-57846a6cb15e",
        "colab": {
          "base_uri": "https://localhost:8080/",
          "height": 204
        }
      },
      "source": [
        "df = pd.merge(left=market, right=news, how='left', on='date', copy=False)\n",
        "df = df[['date', 'high', 'low', 'volume', 'news_vector', 'polarity', 'target']]\n",
        "df.head()"
      ],
      "execution_count": 20,
      "outputs": [
        {
          "output_type": "execute_result",
          "data": {
            "text/html": [
              "<div>\n",
              "<style scoped>\n",
              "    .dataframe tbody tr th:only-of-type {\n",
              "        vertical-align: middle;\n",
              "    }\n",
              "\n",
              "    .dataframe tbody tr th {\n",
              "        vertical-align: top;\n",
              "    }\n",
              "\n",
              "    .dataframe thead th {\n",
              "        text-align: right;\n",
              "    }\n",
              "</style>\n",
              "<table border=\"1\" class=\"dataframe\">\n",
              "  <thead>\n",
              "    <tr style=\"text-align: right;\">\n",
              "      <th></th>\n",
              "      <th>date</th>\n",
              "      <th>high</th>\n",
              "      <th>low</th>\n",
              "      <th>volume</th>\n",
              "      <th>news_vector</th>\n",
              "      <th>polarity</th>\n",
              "      <th>target</th>\n",
              "    </tr>\n",
              "  </thead>\n",
              "  <tbody>\n",
              "    <tr>\n",
              "      <th>0</th>\n",
              "      <td>2006-12-01</td>\n",
              "      <td>13.190000</td>\n",
              "      <td>12.871428</td>\n",
              "      <td>198769900</td>\n",
              "      <td>[0, 0, 0, 0, 0, 0, 0, 0, 0, 0, 0, 0, 0, 0, 0, ...</td>\n",
              "      <td>0.7707</td>\n",
              "      <td>13.125714</td>\n",
              "    </tr>\n",
              "    <tr>\n",
              "      <th>1</th>\n",
              "      <td>2006-12-04</td>\n",
              "      <td>13.150000</td>\n",
              "      <td>12.928572</td>\n",
              "      <td>177384200</td>\n",
              "      <td>[0, 0, 0, 0, 0, 0, 0, 0, 0, 0, 0, 0, 0, 0, 0, ...</td>\n",
              "      <td>0.8720</td>\n",
              "      <td>13.092857</td>\n",
              "    </tr>\n",
              "    <tr>\n",
              "      <th>2</th>\n",
              "      <td>2006-12-05</td>\n",
              "      <td>13.190000</td>\n",
              "      <td>12.981428</td>\n",
              "      <td>165709600</td>\n",
              "      <td>[0, 0, 0, 0, 0, 0, 0, 0, 0, 0, 0, 0, 0, 0, 0, ...</td>\n",
              "      <td>0.0000</td>\n",
              "      <td>12.948571</td>\n",
              "    </tr>\n",
              "    <tr>\n",
              "      <th>3</th>\n",
              "      <td>2006-12-06</td>\n",
              "      <td>13.055715</td>\n",
              "      <td>12.810000</td>\n",
              "      <td>159546100</td>\n",
              "      <td>[0, 0, 0, 0, 0, 0, 0, 0, 0, 0, 0, 0, 0, 0, 0, ...</td>\n",
              "      <td>0.6858</td>\n",
              "      <td>12.861428</td>\n",
              "    </tr>\n",
              "    <tr>\n",
              "      <th>4</th>\n",
              "      <td>2006-12-07</td>\n",
              "      <td>12.928572</td>\n",
              "      <td>12.414286</td>\n",
              "      <td>251206900</td>\n",
              "      <td>[0, 0, 0, 0, 0, 0, 0, 0, 0, 0, 0, 0, 0, 0, 0, ...</td>\n",
              "      <td>-0.6712</td>\n",
              "      <td>12.461429</td>\n",
              "    </tr>\n",
              "  </tbody>\n",
              "</table>\n",
              "</div>"
            ],
            "text/plain": [
              "        date       high  ...  polarity     target\n",
              "0 2006-12-01  13.190000  ...    0.7707  13.125714\n",
              "1 2006-12-04  13.150000  ...    0.8720  13.092857\n",
              "2 2006-12-05  13.190000  ...    0.0000  12.948571\n",
              "3 2006-12-06  13.055715  ...    0.6858  12.861428\n",
              "4 2006-12-07  12.928572  ...   -0.6712  12.461429\n",
              "\n",
              "[5 rows x 7 columns]"
            ]
          },
          "metadata": {
            "tags": []
          },
          "execution_count": 20
        }
      ]
    },
    {
      "cell_type": "code",
      "metadata": {
        "id": "MfvAiFLbbH6g",
        "colab_type": "code",
        "outputId": "05037081-7ea5-4cae-be75-8172b30393c2",
        "colab": {
          "base_uri": "https://localhost:8080/",
          "height": 34
        }
      },
      "source": [
        "len(df)"
      ],
      "execution_count": 21,
      "outputs": [
        {
          "output_type": "execute_result",
          "data": {
            "text/plain": [
              "2517"
            ]
          },
          "metadata": {
            "tags": []
          },
          "execution_count": 21
        }
      ]
    },
    {
      "cell_type": "code",
      "metadata": {
        "id": "win_i4QabPNm",
        "colab_type": "code",
        "colab": {}
      },
      "source": [
        "news = news_vector_data\n",
        "polarity = np.array(df['polarity'])\n",
        "stock = np.array(df[['high', 'low', 'volume']])\n",
        "target = np.array(df['target'])"
      ],
      "execution_count": 0,
      "outputs": []
    },
    {
      "cell_type": "code",
      "metadata": {
        "id": "-zLTBO0Kbw-u",
        "colab_type": "code",
        "colab": {}
      },
      "source": [
        "news_train, news_test, polarity_train, polarity_test, stock_train, stock_test, target_train, target_test = train_test_split(news, polarity, stock, target, train_size=0.9, shuffle=False)"
      ],
      "execution_count": 0,
      "outputs": []
    },
    {
      "cell_type": "code",
      "metadata": {
        "id": "X9Mom7OAbyeG",
        "colab_type": "code",
        "colab": {}
      },
      "source": [
        "#custom embedding layer\n",
        "\n",
        "embedding_layer = Embedding(num_words, EMBEDDING_DIM, weights=[embedding_matrix], input_length=MAX_SEQUENCE_LENGTH, trainable=False)"
      ],
      "execution_count": 0,
      "outputs": []
    },
    {
      "cell_type": "code",
      "metadata": {
        "id": "2F-H5uyMecXx",
        "colab_type": "code",
        "colab": {}
      },
      "source": [
        "#model\n",
        "\n",
        "in_news = Input(shape=(MAX_SEQUENCE_LENGTH,))\n",
        "in_stock = Input(shape=(3,))\n",
        "\n",
        "news = embedding_layer(in_news)\n",
        "news = Bidirectional(LSTM(10, return_sequences=True))(news)\n",
        "news = GlobalMaxPool1D()(news)\n",
        "news_out = Dense(1)(news)\n",
        "\n",
        "stock = Dense(64)(in_stock)\n",
        "stock = Dense(512)(stock)\n",
        "stock = Dense(1)(stock)\n",
        "\n",
        "concat = Concatenate(axis=1)([news_out, stock])\n",
        "\n",
        "out = Dense(512)(concat)\n",
        "#out = Dense(512)(out)\n",
        "output = Dense(1)(out)\n",
        "\n",
        "\n",
        "#setting 2 outputs, one is the actual prediction and other is for backpropagate news\n",
        "model = Model([in_news, in_stock], [output, news_out])\n",
        "\n",
        "\n",
        "model.compile(loss=['mae', 'logcosh'], optimizer='adam')"
      ],
      "execution_count": 0,
      "outputs": []
    },
    {
      "cell_type": "code",
      "metadata": {
        "id": "QKcVoAxflPky",
        "colab_type": "code",
        "colab": {}
      },
      "source": [
        "#define callbacks and early stopping\n",
        "callback = [ModelCheckpoint('model.h5', monitor='val_loss', save_best_only=True, mode='min', verbose=1), EarlyStopping(monitor='val_loss', patience=30)]"
      ],
      "execution_count": 0,
      "outputs": []
    },
    {
      "cell_type": "code",
      "metadata": {
        "id": "npPIQSqte-dJ",
        "colab_type": "code",
        "outputId": "abe2504f-5912-4782-b201-8dae40330b60",
        "colab": {
          "base_uri": "https://localhost:8080/",
          "height": 394
        }
      },
      "source": [
        "history = model.fit([news_train, stock_train], [target_train, polarity_train], batch_size=128, epochs=10, validation_split=0.1)"
      ],
      "execution_count": 89,
      "outputs": [
        {
          "output_type": "stream",
          "text": [
            "Train on 2038 samples, validate on 227 samples\n",
            "Epoch 1/10\n",
            "2038/2038 [==============================] - 9s 4ms/step - loss: 470242.4826 - dense_102_loss: 470242.3298 - dense_97_loss: 0.1541 - val_loss: 51638.0232 - val_dense_102_loss: 51637.8761 - val_dense_97_loss: 0.1457\n",
            "Epoch 2/10\n",
            "2038/2038 [==============================] - 6s 3ms/step - loss: 89009.7809 - dense_102_loss: 89009.6394 - dense_97_loss: 0.1424 - val_loss: 6114.4481 - val_dense_102_loss: 6114.3072 - val_dense_97_loss: 0.1406\n",
            "Epoch 3/10\n",
            "2038/2038 [==============================] - 6s 3ms/step - loss: 6307.6374 - dense_102_loss: 6307.4991 - dense_97_loss: 0.1382 - val_loss: 5865.7145 - val_dense_102_loss: 5865.5765 - val_dense_97_loss: 0.1381\n",
            "Epoch 4/10\n",
            "2038/2038 [==============================] - 6s 3ms/step - loss: 9494.5239 - dense_102_loss: 9494.3890 - dense_97_loss: 0.1348 - val_loss: 2608.2761 - val_dense_102_loss: 2608.1394 - val_dense_97_loss: 0.1367\n",
            "Epoch 5/10\n",
            "2038/2038 [==============================] - 6s 3ms/step - loss: 21984.5737 - dense_102_loss: 21984.4474 - dense_97_loss: 0.1267 - val_loss: 2974.4051 - val_dense_102_loss: 2974.2712 - val_dense_97_loss: 0.1338\n",
            "Epoch 6/10\n",
            "2038/2038 [==============================] - 6s 3ms/step - loss: 6172.6087 - dense_102_loss: 6172.4845 - dense_97_loss: 0.1240 - val_loss: 415.4131 - val_dense_102_loss: 415.2719 - val_dense_97_loss: 0.1412\n",
            "Epoch 7/10\n",
            "2038/2038 [==============================] - 6s 3ms/step - loss: 1948.6004 - dense_102_loss: 1948.4732 - dense_97_loss: 0.1273 - val_loss: 472.6031 - val_dense_102_loss: 472.4713 - val_dense_97_loss: 0.1318\n",
            "Epoch 8/10\n",
            "2038/2038 [==============================] - 6s 3ms/step - loss: 645.1060 - dense_102_loss: 644.9873 - dense_97_loss: 0.1188 - val_loss: 449.1739 - val_dense_102_loss: 449.0451 - val_dense_97_loss: 0.1288\n",
            "Epoch 9/10\n",
            "2038/2038 [==============================] - 6s 3ms/step - loss: 236.3811 - dense_102_loss: 236.2659 - dense_97_loss: 0.1152 - val_loss: 44.6591 - val_dense_102_loss: 44.5314 - val_dense_97_loss: 0.1277\n",
            "Epoch 10/10\n",
            "2038/2038 [==============================] - 6s 3ms/step - loss: 136.9327 - dense_102_loss: 136.8187 - dense_97_loss: 0.1141 - val_loss: 123.2476 - val_dense_102_loss: 123.1176 - val_dense_97_loss: 0.1300\n"
          ],
          "name": "stdout"
        }
      ]
    },
    {
      "cell_type": "code",
      "metadata": {
        "id": "WXdE4FwDi1f2",
        "colab_type": "code",
        "outputId": "5ce7049a-317d-4bfa-e0b5-9f08f58ac686",
        "colab": {
          "base_uri": "https://localhost:8080/",
          "height": 483
        }
      },
      "source": [
        "#overall loss\n",
        "plt.figure(figsize=(24,8))\n",
        "plt.plot(history.history['loss'], label='loss')\n",
        "plt.plot(history.history['val_loss'], label='val_loss')\n",
        "plt.legend()\n",
        "plt.show()"
      ],
      "execution_count": 90,
      "outputs": [
        {
          "output_type": "display_data",
          "data": {
            "image/png": "[encoded data removed]",
            "text/plain": [
              "<Figure size 1728x576 with 1 Axes>"
            ]
          },
          "metadata": {
            "tags": []
          }
        }
      ]
    },
    {
      "cell_type": "code",
      "metadata": {
        "id": "MOtURWzHmk9A",
        "colab_type": "code",
        "colab": {
          "base_uri": "https://localhost:8080/",
          "height": 483
        },
        "outputId": "ff5cd01e-7420-4ec0-c9c3-2913558424a4"
      },
      "source": [
        "#news output loss\n",
        "plt.figure(figsize=(24,8))\n",
        "plt.plot(history.history['dense_97_loss'], label='news_loss')\n",
        "plt.plot(history.history['val_dense_97_loss'], label='val_news_loss')\n",
        "plt.legend()\n",
        "plt.show()"
      ],
      "execution_count": 91,
      "outputs": [
        {
          "output_type": "display_data",
          "data": {
            "image/png": "[encoded data removed]",
            "text/plain": [
              "<Figure size 1728x576 with 1 Axes>"
            ]
          },
          "metadata": {
            "tags": []
          }
        }
      ]
    },
    {
      "cell_type": "code",
      "metadata": {
        "id": "Bfd3sQSKgwld",
        "colab_type": "code",
        "colab": {}
      },
      "source": [
        "predictions, _ = model.predict([news_test[:250,], stock_test[:250,]])"
      ],
      "execution_count": 0,
      "outputs": []
    },
    {
      "cell_type": "code",
      "metadata": {
        "id": "EvvOV9Sqi7wr",
        "colab_type": "code",
        "outputId": "b69c6815-f74e-4c9d-abf8-48a45e8a2393",
        "colab": {
          "base_uri": "https://localhost:8080/",
          "height": 483
        }
      },
      "source": [
        "#plot\n",
        "\n",
        "plt.figure(figsize=(24,8))\n",
        "cycles = np.arange(len(predictions))\n",
        "plt.plot(cycles, target_test[:250,], label=\"Actual\", lw=0.8)\n",
        "plt.plot(cycles, predictions, 'maroon', label=\"Predicted\", lw=0.8)\n",
        "plt.legend()\n",
        "plt.show()"
      ],
      "execution_count": 93,
      "outputs": [
        {
          "output_type": "display_data",
          "data": {
            "image/png": "[encoded data removed]",
            "text/plain": [
              "<Figure size 1728x576 with 1 Axes>"
            ]
          },
          "metadata": {
            "tags": []
          }
        }
      ]
    },
    {
      "cell_type": "code",
      "metadata": {
        "id": "Xf4iYYdR5KTt",
        "colab_type": "code",
        "colab": {}
      },
      "source": [
        ""
      ],
      "execution_count": 0,
      "outputs": []
    }
  ]
}